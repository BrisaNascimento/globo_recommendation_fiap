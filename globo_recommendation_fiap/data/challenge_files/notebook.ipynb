{
 "cells": [
  {
   "cell_type": "markdown",
   "metadata": {},
   "source": [
    "Notebook Created to test the data pipeline"
   ]
  },
  {
   "cell_type": "code",
   "execution_count": 93,
   "metadata": {},
   "outputs": [],
   "source": [
    "import pandas as pd\n",
    "import numpy as np\n",
    "from tqdm import tqdm\n",
    "from typing import List\n",
    "from datetime import datetime\n",
    "from sklearn.pipeline import Pipeline\n",
    "from sklearn.preprocessing import FunctionTransformer\n",
    "from sklearn.model_selection import train_test_split\n",
    "from scipy.sparse import csr_matrix\n",
    "from scipy.sparse import coo_matrix\n",
    "from implicit.als import AlternatingLeastSquares"
   ]
  },
  {
   "cell_type": "markdown",
   "metadata": {},
   "source": [
    "For performance reasons you may prefer to download the parquet and add in your local folder to work.\n",
    "\n",
    "If you prefer doing this, please create a folder called local inside 'challenge_files'"
   ]
  },
  {
   "cell_type": "code",
   "execution_count": 126,
   "metadata": {},
   "outputs": [],
   "source": [
    "# itens = pd.read_parquet('local/itens.parquet')\n",
    "# # teste = pd.read_parquet('local/teste.parquet')\n",
    "# treino = pd.read_parquet('local/treino.parquet')\n",
    "# # validacao = pd.read_parquet('local/validacao.parquet')\n",
    "# # validacao_k = pd.read_parquet('local/validacao_k.parquet')\n",
    "\n",
    "data = pd.read_parquet('local/user_colab_filter.parquet')\n",
    "\n"
   ]
  },
  {
   "cell_type": "code",
   "execution_count": 127,
   "metadata": {},
   "outputs": [
    {
     "data": {
      "text/html": [
       "<div>\n",
       "<style scoped>\n",
       "    .dataframe tbody tr th:only-of-type {\n",
       "        vertical-align: middle;\n",
       "    }\n",
       "\n",
       "    .dataframe tbody tr th {\n",
       "        vertical-align: top;\n",
       "    }\n",
       "\n",
       "    .dataframe thead th {\n",
       "        text-align: right;\n",
       "    }\n",
       "</style>\n",
       "<table border=\"1\" class=\"dataframe\">\n",
       "  <thead>\n",
       "    <tr style=\"text-align: right;\">\n",
       "      <th></th>\n",
       "      <th>userId</th>\n",
       "      <th>history</th>\n",
       "      <th>engagement_score_pca</th>\n",
       "      <th>engagement_score</th>\n",
       "    </tr>\n",
       "  </thead>\n",
       "  <tbody>\n",
       "    <tr>\n",
       "      <th>0</th>\n",
       "      <td>f98d1132f60d46883ce49583257104d15ce723b3bbda21...</td>\n",
       "      <td>c8aab885-433d-4e46-8066-479f40ba7fb2</td>\n",
       "      <td>0.417061</td>\n",
       "      <td>40.793976</td>\n",
       "    </tr>\n",
       "    <tr>\n",
       "      <th>1</th>\n",
       "      <td>f98d1132f60d46883ce49583257104d15ce723b3bbda21...</td>\n",
       "      <td>68d2039c-c9aa-456c-ac33-9b2e8677fba7</td>\n",
       "      <td>-0.344065</td>\n",
       "      <td>18.971316</td>\n",
       "    </tr>\n",
       "    <tr>\n",
       "      <th>2</th>\n",
       "      <td>f98d1132f60d46883ce49583257104d15ce723b3bbda21...</td>\n",
       "      <td>13e423ce-1d69-4c78-bc18-e8c8f7271964</td>\n",
       "      <td>-0.162837</td>\n",
       "      <td>19.851072</td>\n",
       "    </tr>\n",
       "    <tr>\n",
       "      <th>3</th>\n",
       "      <td>2c1080975e257ed630e26679edbe4d5c850c65f3e09f65...</td>\n",
       "      <td>3325b5a1-979a-4cb3-82b6-63905c9edbe8</td>\n",
       "      <td>-0.835794</td>\n",
       "      <td>7.980092</td>\n",
       "    </tr>\n",
       "    <tr>\n",
       "      <th>4</th>\n",
       "      <td>2c1080975e257ed630e26679edbe4d5c850c65f3e09f65...</td>\n",
       "      <td>fe856057-f97d-419f-ab1c-97c5c3e0719c</td>\n",
       "      <td>2.108754</td>\n",
       "      <td>41.582825</td>\n",
       "    </tr>\n",
       "  </tbody>\n",
       "</table>\n",
       "</div>"
      ],
      "text/plain": [
       "                                              userId  \\\n",
       "0  f98d1132f60d46883ce49583257104d15ce723b3bbda21...   \n",
       "1  f98d1132f60d46883ce49583257104d15ce723b3bbda21...   \n",
       "2  f98d1132f60d46883ce49583257104d15ce723b3bbda21...   \n",
       "3  2c1080975e257ed630e26679edbe4d5c850c65f3e09f65...   \n",
       "4  2c1080975e257ed630e26679edbe4d5c850c65f3e09f65...   \n",
       "\n",
       "                                 history  engagement_score_pca  \\\n",
       "0   c8aab885-433d-4e46-8066-479f40ba7fb2              0.417061   \n",
       "1   68d2039c-c9aa-456c-ac33-9b2e8677fba7             -0.344065   \n",
       "2   13e423ce-1d69-4c78-bc18-e8c8f7271964             -0.162837   \n",
       "3   3325b5a1-979a-4cb3-82b6-63905c9edbe8             -0.835794   \n",
       "4   fe856057-f97d-419f-ab1c-97c5c3e0719c              2.108754   \n",
       "\n",
       "   engagement_score  \n",
       "0         40.793976  \n",
       "1         18.971316  \n",
       "2         19.851072  \n",
       "3          7.980092  \n",
       "4         41.582825  "
      ]
     },
     "execution_count": 127,
     "metadata": {},
     "output_type": "execute_result"
    }
   ],
   "source": [
    "data.head()"
   ]
  },
  {
   "cell_type": "markdown",
   "metadata": {},
   "source": [
    "### Feature Store Functions"
   ]
  },
  {
   "cell_type": "code",
   "execution_count": 4,
   "metadata": {},
   "outputs": [],
   "source": [
    "\n",
    "# Add the below functions to python (maybe utils?)\n",
    "\n",
    "def split_multivalued_df(df: pd.DataFrame, split_columns: list) -> pd.DataFrame:\n",
    "    df[split_columns] = df[split_columns].apply(lambda col: col.str.split(','))\n",
    "    expanded_df = df.explode(split_columns, ignore_index=True)\n",
    "    return expanded_df\n",
    "\n",
    "\n",
    "def drop_columns(df: pd.DataFrame, columns_to_drop: list) -> pd.DataFrame:\n",
    "    dropped_df = df.drop(columns=columns_to_drop, axis=1)\n",
    "    return dropped_df\n",
    "\n",
    "\n",
    "def merge_dfs(\n",
    "        df_a: pd.DataFrame,\n",
    "        df_b: pd.DataFrame,\n",
    "        df_a_key: str,\n",
    "        df_b_key: str) -> pd.DataFrame:\n",
    "    merged_df = pd.merge(df_a, df_b, left_on=df_a_key, right_on=df_b_key, how='inner')\n",
    "    return merged_df\n",
    "\n",
    "\n",
    "def adjust_date(df:pd.DataFrame, column_to_format:str):\n",
    "    df[column_to_format] = pd.to_datetime(df[column_to_format]).dt.tz_localize(None)\n",
    "    df['date_reference'] = pd.to_datetime(df[column_to_format], unit='ms')\n",
    "    return df.sort_values(by=column_to_format)\n",
    "\n",
    "\n",
    "def adjust_number_columns(df:pd.DataFrame, columns:List[str]):\n",
    "    for column in columns:\n",
    "        df[column] = pd.to_numeric(df[column])\n",
    "    return df\n",
    "\n",
    "\n",
    "def set_time_base_features(df:pd.DataFrame) -> pd.DataFrame:\n",
    "    decay_rate = 0.0001\n",
    "    df['timestamp'] = pd.to_datetime(df['timestampHistory'], unit='ms')\n",
    "    max_date = df['timestamp'].max()\n",
    "    df['timeOnPageHistory'] = pd.to_numeric(df['timeOnPageHistory'])\n",
    "    df['days_since_click'] = (max_date - df['timestamp']).dt.days\n",
    "    df['day_of_week'] = df['timestamp'].dt.day_name()\n",
    "    df['hour_of_day'] = df['timestamp'].dt.hour\n",
    "    df['time_normalized'] = df['days_since_click'] / df['days_since_click'].max()\n",
    "    df['time_decay_weight'] = np.exp(-decay_rate * df['time_normalized'])\n",
    "    df['time_on_page_minutes'] = df['timeOnPageHistory'] / 60000\n",
    "    return df\n",
    "\n",
    "def create_crud_categories(df:pd.DataFrame) -> pd.DataFrame:\n",
    "    def extract_substring(url):\n",
    "        try:\n",
    "            start_index = url.index(\".com/\") + len(\".com/\")\n",
    "            end_index = url.index(\"/20\")\n",
    "            return url[start_index:end_index]\n",
    "        except ValueError:\n",
    "            return \"\"  # Handle cases where \".com/\" or \"/20\" is not found\n",
    "    \n",
    "    df['crud_categories'] = df['url'].apply(extract_substring)\n",
    "    return df\n",
    "\n",
    "\n",
    "# Function split crud categories\n",
    "def split_crud_categories(df:pd.DataFrame) -> pd.DataFrame:\n",
    "    df['grouped_categories'] = df['crud_categories'].str.split('/')\n",
    "    return df\n",
    "\n",
    "\n",
    "def extract_categories(df):\n",
    "    # Add 'category' and 'sub_category' columns\n",
    "    df['grouped_categories'] = df['grouped_categories'].to_list()\n",
    "    df[\"category\"] = df[\"grouped_categories\"].apply(lambda x: x[-2] if len(x) > 1 else (x[0] if x else None))  # Second-to-last element\n",
    "    df[\"sub_category\"] = df[\"grouped_categories\"].apply(lambda x: x[-1] if x else None)  # Last element\n",
    "    return df\n",
    "\n",
    "\n",
    "def calculate_engagement_score(df:pd.DataFrame) -> pd.DataFrame:\n",
    "    df['engagement_score'] = (\n",
    "        df['numberOfClicksHistory'] * 0.4 +\n",
    "        df['scrollPercentageHistory'] * 0.2 +\n",
    "        df['pageVisitsCountHistory'] * 0.2 +\n",
    "        df['time_on_page_minutes'] * 0.1 +\n",
    "        df['time_decay_weight'] * 0.1\n",
    "    )\n",
    "    return df\n"
   ]
  },
  {
   "cell_type": "markdown",
   "metadata": {},
   "source": [
    "### Pipelines\n",
    "\n",
    "**TO-DO:**\n",
    "\n",
    "*We need to review how to add the below pipelines in our project*"
   ]
  },
  {
   "cell_type": "code",
   "execution_count": 1,
   "metadata": {},
   "outputs": [],
   "source": [
    "## User Pipeline Variables\n",
    "split_columns = ['history', 'timestampHistory', 'numberOfClicksHistory', 'timeOnPageHistory', 'scrollPercentageHistory', 'pageVisitsCountHistory']\n",
    "columns_to_drop = ['userType', 'historySize', 'timestampHistory_new', 'timestampHistory', 'timeOnPageHistory']"
   ]
  },
  {
   "cell_type": "markdown",
   "metadata": {},
   "source": [
    "#### Data Pipeline"
   ]
  },
  {
   "cell_type": "code",
   "execution_count": 6,
   "metadata": {},
   "outputs": [],
   "source": [
    "users_pipeline = Pipeline(\n",
    "    steps=[\n",
    "        ('split_multivalued_df', FunctionTransformer(split_multivalued_df, kw_args={'split_columns': split_columns})),\n",
    "        ('create_time_features', FunctionTransformer(set_time_base_features)),\n",
    "        ('drop_columns', FunctionTransformer(drop_columns, kw_args={'columns_to_drop': columns_to_drop}))\n",
    "    ]\n",
    ")\n"
   ]
  },
  {
   "cell_type": "markdown",
   "metadata": {},
   "source": [
    "#### Tests"
   ]
  },
  {
   "cell_type": "code",
   "execution_count": 9,
   "metadata": {},
   "outputs": [],
   "source": [
    "df_test_pipeline = itens.head()"
   ]
  },
  {
   "cell_type": "markdown",
   "metadata": {},
   "source": [
    "#### Pipeline Runs"
   ]
  },
  {
   "cell_type": "code",
   "execution_count": 6,
   "metadata": {},
   "outputs": [
    {
     "name": "stderr",
     "output_type": "stream",
     "text": [
      "C:\\Users\\julio\\AppData\\Local\\Temp\\ipykernel_2508\\1624493239.py:38: FutureWarning: The behavior of 'to_datetime' with 'unit' when parsing strings is deprecated. In a future version, strings will be parsed as datetime strings, matching the behavior without a 'unit'. To retain the old behavior, explicitly cast ints or floats to numeric type before calling to_datetime.\n",
      "  df['timestamp'] = pd.to_datetime(df['timestampHistory'], unit='ms')\n"
     ]
    },
    {
     "data": {
      "text/html": [
       "<div>\n",
       "<style scoped>\n",
       "    .dataframe tbody tr th:only-of-type {\n",
       "        vertical-align: middle;\n",
       "    }\n",
       "\n",
       "    .dataframe tbody tr th {\n",
       "        vertical-align: top;\n",
       "    }\n",
       "\n",
       "    .dataframe thead th {\n",
       "        text-align: right;\n",
       "    }\n",
       "</style>\n",
       "<table border=\"1\" class=\"dataframe\">\n",
       "  <thead>\n",
       "    <tr style=\"text-align: right;\">\n",
       "      <th></th>\n",
       "      <th>userId</th>\n",
       "      <th>history</th>\n",
       "      <th>numberOfClicksHistory</th>\n",
       "      <th>scrollPercentageHistory</th>\n",
       "      <th>pageVisitsCountHistory</th>\n",
       "      <th>timestamp</th>\n",
       "      <th>days_since_click</th>\n",
       "      <th>day_of_week</th>\n",
       "      <th>hour_of_day</th>\n",
       "      <th>time_normalized</th>\n",
       "      <th>time_decay_weight</th>\n",
       "      <th>time_on_page_minutes</th>\n",
       "    </tr>\n",
       "  </thead>\n",
       "  <tbody>\n",
       "    <tr>\n",
       "      <th>0</th>\n",
       "      <td>f98d1132f60d46883ce49583257104d15ce723b3bbda21...</td>\n",
       "      <td>c8aab885-433d-4e46-8066-479f40ba7fb2</td>\n",
       "      <td>76</td>\n",
       "      <td>50.3</td>\n",
       "      <td>2</td>\n",
       "      <td>2022-07-06 22:26:57.045</td>\n",
       "      <td>177</td>\n",
       "      <td>Wednesday</td>\n",
       "      <td>22</td>\n",
       "      <td>0.972527</td>\n",
       "      <td>0.999903</td>\n",
       "      <td>0.339667</td>\n",
       "    </tr>\n",
       "    <tr>\n",
       "      <th>1</th>\n",
       "      <td>f98d1132f60d46883ce49583257104d15ce723b3bbda21...</td>\n",
       "      <td>68d2039c-c9aa-456c-ac33-9b2e8677fba7</td>\n",
       "      <td>38</td>\n",
       "      <td>18.18</td>\n",
       "      <td>1</td>\n",
       "      <td>2022-07-06 22:30:05.778</td>\n",
       "      <td>177</td>\n",
       "      <td>Wednesday</td>\n",
       "      <td>22</td>\n",
       "      <td>0.972527</td>\n",
       "      <td>0.999903</td>\n",
       "      <td>0.353067</td>\n",
       "    </tr>\n",
       "    <tr>\n",
       "      <th>2</th>\n",
       "      <td>f98d1132f60d46883ce49583257104d15ce723b3bbda21...</td>\n",
       "      <td>13e423ce-1d69-4c78-bc18-e8c8f7271964</td>\n",
       "      <td>41</td>\n",
       "      <td>16.46</td>\n",
       "      <td>1</td>\n",
       "      <td>2022-07-06 22:31:38.738</td>\n",
       "      <td>177</td>\n",
       "      <td>Wednesday</td>\n",
       "      <td>22</td>\n",
       "      <td>0.972527</td>\n",
       "      <td>0.999903</td>\n",
       "      <td>0.590633</td>\n",
       "    </tr>\n",
       "    <tr>\n",
       "      <th>3</th>\n",
       "      <td>2c1080975e257ed630e26679edbe4d5c850c65f3e09f65...</td>\n",
       "      <td>3325b5a1-979a-4cb3-82b6-63905c9edbe8</td>\n",
       "      <td>7</td>\n",
       "      <td>25.35</td>\n",
       "      <td>1</td>\n",
       "      <td>2022-07-01 14:04:00.278</td>\n",
       "      <td>182</td>\n",
       "      <td>Friday</td>\n",
       "      <td>14</td>\n",
       "      <td>1.000000</td>\n",
       "      <td>0.999900</td>\n",
       "      <td>0.100817</td>\n",
       "    </tr>\n",
       "    <tr>\n",
       "      <th>4</th>\n",
       "      <td>2c1080975e257ed630e26679edbe4d5c850c65f3e09f65...</td>\n",
       "      <td>fe856057-f97d-419f-ab1c-97c5c3e0719c</td>\n",
       "      <td>80</td>\n",
       "      <td>45.66</td>\n",
       "      <td>1</td>\n",
       "      <td>2022-07-02 11:27:46.729</td>\n",
       "      <td>181</td>\n",
       "      <td>Saturday</td>\n",
       "      <td>11</td>\n",
       "      <td>0.994505</td>\n",
       "      <td>0.999901</td>\n",
       "      <td>3.508150</td>\n",
       "    </tr>\n",
       "  </tbody>\n",
       "</table>\n",
       "</div>"
      ],
      "text/plain": [
       "                                              userId  \\\n",
       "0  f98d1132f60d46883ce49583257104d15ce723b3bbda21...   \n",
       "1  f98d1132f60d46883ce49583257104d15ce723b3bbda21...   \n",
       "2  f98d1132f60d46883ce49583257104d15ce723b3bbda21...   \n",
       "3  2c1080975e257ed630e26679edbe4d5c850c65f3e09f65...   \n",
       "4  2c1080975e257ed630e26679edbe4d5c850c65f3e09f65...   \n",
       "\n",
       "                                 history numberOfClicksHistory  \\\n",
       "0   c8aab885-433d-4e46-8066-479f40ba7fb2                    76   \n",
       "1   68d2039c-c9aa-456c-ac33-9b2e8677fba7                    38   \n",
       "2   13e423ce-1d69-4c78-bc18-e8c8f7271964                    41   \n",
       "3   3325b5a1-979a-4cb3-82b6-63905c9edbe8                     7   \n",
       "4   fe856057-f97d-419f-ab1c-97c5c3e0719c                    80   \n",
       "\n",
       "  scrollPercentageHistory pageVisitsCountHistory               timestamp  \\\n",
       "0                    50.3                      2 2022-07-06 22:26:57.045   \n",
       "1                   18.18                      1 2022-07-06 22:30:05.778   \n",
       "2                   16.46                      1 2022-07-06 22:31:38.738   \n",
       "3                   25.35                      1 2022-07-01 14:04:00.278   \n",
       "4                   45.66                      1 2022-07-02 11:27:46.729   \n",
       "\n",
       "   days_since_click day_of_week  hour_of_day  time_normalized  \\\n",
       "0               177   Wednesday           22         0.972527   \n",
       "1               177   Wednesday           22         0.972527   \n",
       "2               177   Wednesday           22         0.972527   \n",
       "3               182      Friday           14         1.000000   \n",
       "4               181    Saturday           11         0.994505   \n",
       "\n",
       "   time_decay_weight  time_on_page_minutes  \n",
       "0           0.999903              0.339667  \n",
       "1           0.999903              0.353067  \n",
       "2           0.999903              0.590633  \n",
       "3           0.999900              0.100817  \n",
       "4           0.999901              3.508150  "
      ]
     },
     "execution_count": 6,
     "metadata": {},
     "output_type": "execute_result"
    }
   ],
   "source": [
    "users_df = users_pipeline.transform(treino)\n",
    "users_df.head()"
   ]
  },
  {
   "cell_type": "markdown",
   "metadata": {},
   "source": [
    "#### ML Pipeline"
   ]
  },
  {
   "cell_type": "code",
   "execution_count": 10,
   "metadata": {},
   "outputs": [],
   "source": [
    "df_a_key = 'history'\n",
    "df_b_key = 'page'\n",
    "als_drop_columns = ['history',\n",
    "                    'numberOfClicksHistory',\n",
    "                    'scrollPercentageHistory',\n",
    "                    'pageVisitsCountHistory',\n",
    "                    'time_on_page_minutes',\n",
    "                    'time_decay_weight',\n",
    "                    'timestamp',\n",
    "                    'days_since_click',\n",
    "                    'day_of_week',\n",
    "                    'hour_of_day',\n",
    "                    'time_normalized',\n",
    "                    'time_decay_weight',\n",
    "                    'time_on_page_minutes',\n",
    "                    'issued',\n",
    "                    'cleaned_title',\n",
    "                    'embbed_title'\n",
    "                    ]\n",
    "\n",
    "fields_to_format = ['numberOfClicksHistory', \n",
    "                    'scrollPercentageHistory', \n",
    "                    'pageVisitsCountHistory', \n",
    "                    'time_on_page_minutes', \n",
    "                    'time_decay_weight']"
   ]
  },
  {
   "cell_type": "code",
   "execution_count": 11,
   "metadata": {},
   "outputs": [],
   "source": [
    "recommender_pipeline = Pipeline(\n",
    "    steps=[\n",
    "        ('merge', FunctionTransformer(\n",
    "            merge_dfs, kw_args={'df_b': itens_df, 'df_a_key': df_a_key, 'df_b_key': df_b_key})),\n",
    "        ('convert_fields_to_numeric', FunctionTransformer(adjust_number_columns, kw_args={'columns': fields_to_format})),\n",
    "        ('calculate_engagement_score', FunctionTransformer(calculate_engagement_score)),   \n",
    "        ('drop_unused_columns', FunctionTransformer(\n",
    "            drop_columns, kw_args={'columns_to_drop': als_drop_columns}\n",
    "        ))\n",
    "    ]\n",
    ")"
   ]
  },
  {
   "cell_type": "code",
   "execution_count": 12,
   "metadata": {},
   "outputs": [
    {
     "data": {
      "text/html": [
       "<div>\n",
       "<style scoped>\n",
       "    .dataframe tbody tr th:only-of-type {\n",
       "        vertical-align: middle;\n",
       "    }\n",
       "\n",
       "    .dataframe tbody tr th {\n",
       "        vertical-align: top;\n",
       "    }\n",
       "\n",
       "    .dataframe thead th {\n",
       "        text-align: right;\n",
       "    }\n",
       "</style>\n",
       "<table border=\"1\" class=\"dataframe\">\n",
       "  <thead>\n",
       "    <tr style=\"text-align: right;\">\n",
       "      <th></th>\n",
       "      <th>userId</th>\n",
       "      <th>page</th>\n",
       "      <th>category</th>\n",
       "      <th>sub_category</th>\n",
       "      <th>engagement_score</th>\n",
       "    </tr>\n",
       "  </thead>\n",
       "  <tbody>\n",
       "    <tr>\n",
       "      <th>0</th>\n",
       "      <td>f98d1132f60d46883ce49583257104d15ce723b3bbda21...</td>\n",
       "      <td>c8aab885-433d-4e46-8066-479f40ba7fb2</td>\n",
       "      <td>santa-catarina</td>\n",
       "      <td>noticia</td>\n",
       "      <td>40.993957</td>\n",
       "    </tr>\n",
       "    <tr>\n",
       "      <th>1</th>\n",
       "      <td>2c1080975e257ed630e26679edbe4d5c850c65f3e09f65...</td>\n",
       "      <td>3325b5a1-979a-4cb3-82b6-63905c9edbe8</td>\n",
       "      <td>itapetininga-regiao</td>\n",
       "      <td>noticia</td>\n",
       "      <td>8.180072</td>\n",
       "    </tr>\n",
       "    <tr>\n",
       "      <th>2</th>\n",
       "      <td>0adffd7450d3b9840d8c6215f0569ad942e782fb19b805...</td>\n",
       "      <td>04756569-593e-4133-a95a-83d35d43dbbd</td>\n",
       "      <td>minas-gerais</td>\n",
       "      <td>noticia</td>\n",
       "      <td>14.334780</td>\n",
       "    </tr>\n",
       "    <tr>\n",
       "      <th>3</th>\n",
       "      <td>c1e8d644329a78ea1f994292db624c57980b2886cfbc2d...</td>\n",
       "      <td>1f2b9c2f-a2d2-4192-b009-09065da8ec23</td>\n",
       "      <td>rio-de-janeiro</td>\n",
       "      <td>noticia</td>\n",
       "      <td>15.456484</td>\n",
       "    </tr>\n",
       "    <tr>\n",
       "      <th>4</th>\n",
       "      <td>e777d1f31d4d955b63d60acc13df336d3903f52ab8f8f4...</td>\n",
       "      <td>bebdeb3e-1699-43e0-a1b8-989f5a6ab679</td>\n",
       "      <td>economia</td>\n",
       "      <td>noticia</td>\n",
       "      <td>250.183651</td>\n",
       "    </tr>\n",
       "  </tbody>\n",
       "</table>\n",
       "</div>"
      ],
      "text/plain": [
       "                                              userId  \\\n",
       "0  f98d1132f60d46883ce49583257104d15ce723b3bbda21...   \n",
       "1  2c1080975e257ed630e26679edbe4d5c850c65f3e09f65...   \n",
       "2  0adffd7450d3b9840d8c6215f0569ad942e782fb19b805...   \n",
       "3  c1e8d644329a78ea1f994292db624c57980b2886cfbc2d...   \n",
       "4  e777d1f31d4d955b63d60acc13df336d3903f52ab8f8f4...   \n",
       "\n",
       "                                   page             category sub_category  \\\n",
       "0  c8aab885-433d-4e46-8066-479f40ba7fb2       santa-catarina      noticia   \n",
       "1  3325b5a1-979a-4cb3-82b6-63905c9edbe8  itapetininga-regiao      noticia   \n",
       "2  04756569-593e-4133-a95a-83d35d43dbbd         minas-gerais      noticia   \n",
       "3  1f2b9c2f-a2d2-4192-b009-09065da8ec23       rio-de-janeiro      noticia   \n",
       "4  bebdeb3e-1699-43e0-a1b8-989f5a6ab679             economia      noticia   \n",
       "\n",
       "   engagement_score  \n",
       "0         40.993957  \n",
       "1          8.180072  \n",
       "2         14.334780  \n",
       "3         15.456484  \n",
       "4        250.183651  "
      ]
     },
     "execution_count": 12,
     "metadata": {},
     "output_type": "execute_result"
    }
   ],
   "source": [
    "als_df = recommender_pipeline.transform(users_df)\n",
    "als_df.head()"
   ]
  },
  {
   "cell_type": "code",
   "execution_count": 51,
   "metadata": {},
   "outputs": [
    {
     "name": "stdout",
     "output_type": "stream",
     "text": [
      "<class 'pandas.core.frame.DataFrame'>\n",
      "RangeIndex: 577942 entries, 0 to 577941\n",
      "Data columns (total 5 columns):\n",
      " #   Column            Non-Null Count   Dtype  \n",
      "---  ------            --------------   -----  \n",
      " 0   userId            577942 non-null  object \n",
      " 1   page              577942 non-null  object \n",
      " 2   category          577942 non-null  object \n",
      " 3   sub_category      577942 non-null  object \n",
      " 4   engagement_score  577942 non-null  float64\n",
      "dtypes: float64(1), object(4)\n",
      "memory usage: 22.0+ MB\n"
     ]
    }
   ],
   "source": [
    "als_df.info()"
   ]
  },
  {
   "cell_type": "markdown",
   "metadata": {},
   "source": [
    "## Collaborative Filtering"
   ]
  },
  {
   "cell_type": "markdown",
   "metadata": {},
   "source": [
    "### KNN Test"
   ]
  },
  {
   "cell_type": "code",
   "execution_count": null,
   "metadata": {},
   "outputs": [],
   "source": [
    "from sklearn.neighbors import NearestNeighbors\n",
    "from sklearn.preprocessing import normalize"
   ]
  },
  {
   "cell_type": "code",
   "execution_count": 6,
   "metadata": {},
   "outputs": [
    {
     "data": {
      "text/html": [
       "<div>\n",
       "<style scoped>\n",
       "    .dataframe tbody tr th:only-of-type {\n",
       "        vertical-align: middle;\n",
       "    }\n",
       "\n",
       "    .dataframe tbody tr th {\n",
       "        vertical-align: top;\n",
       "    }\n",
       "\n",
       "    .dataframe thead th {\n",
       "        text-align: right;\n",
       "    }\n",
       "</style>\n",
       "<table border=\"1\" class=\"dataframe\">\n",
       "  <thead>\n",
       "    <tr style=\"text-align: right;\">\n",
       "      <th></th>\n",
       "      <th>userId</th>\n",
       "      <th>history</th>\n",
       "      <th>scrollPercentageHistory</th>\n",
       "      <th>issued</th>\n",
       "      <th>title</th>\n",
       "    </tr>\n",
       "  </thead>\n",
       "  <tbody>\n",
       "    <tr>\n",
       "      <th>538986</th>\n",
       "      <td>5bbe5d34f92fbbc8854cd5468ecc0db28a25e54388bec3...</td>\n",
       "      <td>esid:conteudo_editorial_g1#materia#https://esp...</td>\n",
       "      <td>24.48</td>\n",
       "      <td>2015-11-17 08:04:41</td>\n",
       "      <td>Conexões da Lava Jato</td>\n",
       "    </tr>\n",
       "    <tr>\n",
       "      <th>29796</th>\n",
       "      <td>d81b7e5879cbf74a447aa1e20f584d4eba30604ede2365...</td>\n",
       "      <td>esid:conteudo_editorial_g1#materia#http://espe...</td>\n",
       "      <td>37.38</td>\n",
       "      <td>2015-12-01 23:04:41</td>\n",
       "      <td>Calculadora de Combustível</td>\n",
       "    </tr>\n",
       "    <tr>\n",
       "      <th>341736</th>\n",
       "      <td>335fe8c2c4282d3ca8c33f01b412374f1d786b2703b385...</td>\n",
       "      <td>esid:conteudo_editorial_g1#materia#http://espe...</td>\n",
       "      <td>82.23</td>\n",
       "      <td>2015-12-01 23:04:41</td>\n",
       "      <td>Calculadora de Combustível</td>\n",
       "    </tr>\n",
       "    <tr>\n",
       "      <th>208894</th>\n",
       "      <td>9225d6cdd374256d25ee877b6c410b82446a73866074b8...</td>\n",
       "      <td>f1640c36-2c34-4cf4-bd5e-bdc73363b15d</td>\n",
       "      <td>29.32</td>\n",
       "      <td>2015-12-04 18:17:03</td>\n",
       "      <td>Australiano flagra lagarto de 1,5 m escalando ...</td>\n",
       "    </tr>\n",
       "    <tr>\n",
       "      <th>378396</th>\n",
       "      <td>55ef18f56791794a0e52eb6e4db69e62be29fa2884288e...</td>\n",
       "      <td>f1640c36-2c34-4cf4-bd5e-bdc73363b15d</td>\n",
       "      <td>54.27</td>\n",
       "      <td>2015-12-04 18:17:03</td>\n",
       "      <td>Australiano flagra lagarto de 1,5 m escalando ...</td>\n",
       "    </tr>\n",
       "  </tbody>\n",
       "</table>\n",
       "</div>"
      ],
      "text/plain": [
       "                                                   userId  \\\n",
       "538986  5bbe5d34f92fbbc8854cd5468ecc0db28a25e54388bec3...   \n",
       "29796   d81b7e5879cbf74a447aa1e20f584d4eba30604ede2365...   \n",
       "341736  335fe8c2c4282d3ca8c33f01b412374f1d786b2703b385...   \n",
       "208894  9225d6cdd374256d25ee877b6c410b82446a73866074b8...   \n",
       "378396  55ef18f56791794a0e52eb6e4db69e62be29fa2884288e...   \n",
       "\n",
       "                                                  history  \\\n",
       "538986  esid:conteudo_editorial_g1#materia#https://esp...   \n",
       "29796   esid:conteudo_editorial_g1#materia#http://espe...   \n",
       "341736  esid:conteudo_editorial_g1#materia#http://espe...   \n",
       "208894               f1640c36-2c34-4cf4-bd5e-bdc73363b15d   \n",
       "378396               f1640c36-2c34-4cf4-bd5e-bdc73363b15d   \n",
       "\n",
       "        scrollPercentageHistory              issued  \\\n",
       "538986                    24.48 2015-11-17 08:04:41   \n",
       "29796                     37.38 2015-12-01 23:04:41   \n",
       "341736                    82.23 2015-12-01 23:04:41   \n",
       "208894                    29.32 2015-12-04 18:17:03   \n",
       "378396                    54.27 2015-12-04 18:17:03   \n",
       "\n",
       "                                                    title  \n",
       "538986                              Conexões da Lava Jato  \n",
       "29796                          Calculadora de Combustível  \n",
       "341736                         Calculadora de Combustível  \n",
       "208894  Australiano flagra lagarto de 1,5 m escalando ...  \n",
       "378396  Australiano flagra lagarto de 1,5 m escalando ...  "
      ]
     },
     "execution_count": 6,
     "metadata": {},
     "output_type": "execute_result"
    }
   ],
   "source": [
    "knn_df = users_df.copy()\n",
    "knn_drop = ['timestampHistory', 'numberOfClicksHistory','timeOnPageHistory','pageVisitsCountHistory', 'page', 'url', 'modified', 'body', 'caption']\n",
    "date_to_format = 'issued'\n",
    "number_to_format = 'scrollPercentageHistory'\n",
    "knn_df = drop_columns(knn_df, knn_drop)\n",
    "knn_df = adjust_date(knn_df, date_to_format)\n",
    "knn_df = adjust_number_columns(knn_df, number_to_format)\n",
    "knn_df.head()"
   ]
  },
  {
   "cell_type": "code",
   "execution_count": 7,
   "metadata": {},
   "outputs": [
    {
     "name": "stdout",
     "output_type": "stream",
     "text": [
      "<Compressed Sparse Row sparse matrix of dtype 'float32'\n",
      "\twith 577942 stored elements and shape (577942, 78489)>\n",
      "  Coords\tValues\n",
      "  (0, 4162)\t46.22999954223633\n",
      "  (1, 1130)\t15.59000015258789\n",
      "  (2, 33749)\t10.479999542236328\n",
      "  (3, 73553)\t73.83000183105469\n",
      "  (4, 3317)\t23.459999084472656\n",
      "  (5, 4298)\t56.08000183105469\n",
      "  (6, 75419)\t61.41999816894531\n",
      "  (7, 10454)\t25.239999771118164\n",
      "  (8, 15740)\t53.369998931884766\n",
      "  (9, 43863)\t57.04999923706055\n",
      "  (10, 16069)\t26.459999084472656\n",
      "  (11, 26714)\t22.219999313354492\n",
      "  (12, 47315)\t33.209999084472656\n",
      "  (13, 66299)\t46.58000183105469\n",
      "  (14, 53084)\t40.630001068115234\n",
      "  (15, 18313)\t35.369998931884766\n",
      "  (16, 77601)\t38.41999816894531\n",
      "  (17, 63154)\t45.709999084472656\n",
      "  (18, 13121)\t32.45000076293945\n",
      "  (19, 5853)\t42.25\n",
      "  (20, 32988)\t16.8799991607666\n",
      "  (21, 60373)\t25.229999542236328\n",
      "  (22, 56738)\t16.469999313354492\n",
      "  (23, 51319)\t57.310001373291016\n",
      "  (24, 18074)\t13.829999923706055\n",
      "  :\t:\n",
      "  (577917, 69496)\t23.920000076293945\n",
      "  (577918, 61434)\t24.139999389648438\n",
      "  (577919, 4572)\t83.61000061035156\n",
      "  (577920, 36430)\t38.97999954223633\n",
      "  (577921, 73148)\t30.709999084472656\n",
      "  (577922, 56449)\t37.59000015258789\n",
      "  (577923, 47372)\t87.66000366210938\n",
      "  (577924, 14364)\t37.400001525878906\n",
      "  (577925, 60428)\t16.739999771118164\n",
      "  (577926, 38000)\t39.52000045776367\n",
      "  (577927, 1981)\t51.099998474121094\n",
      "  (577928, 44227)\t55.36000061035156\n",
      "  (577929, 49410)\t45.20000076293945\n",
      "  (577930, 22992)\t27.739999771118164\n",
      "  (577931, 12940)\t23.889999389648438\n",
      "  (577932, 22199)\t61.83000183105469\n",
      "  (577933, 31100)\t79.43000030517578\n",
      "  (577934, 38934)\t63.029998779296875\n",
      "  (577935, 54360)\t16.110000610351562\n",
      "  (577936, 16015)\t17.360000610351562\n",
      "  (577937, 73235)\t66.45999908447266\n",
      "  (577938, 52787)\t58.790000915527344\n",
      "  (577939, 70547)\t65.54000091552734\n",
      "  (577940, 34041)\t43.130001068115234\n",
      "  (577941, 48877)\t59.63999938964844\n"
     ]
    }
   ],
   "source": [
    "# Create a sparse matrix\n",
    "row = knn_df['userId'].astype('category').cat.codes\n",
    "col = knn_df['title'].astype('category').cat.codes\n",
    "data = knn_df['scrollPercentageHistory'].astype('float32')\n",
    "sparse_matrix = csr_matrix((data, (row, col)))\n",
    "print(sparse_matrix)"
   ]
  },
  {
   "cell_type": "code",
   "execution_count": 9,
   "metadata": {},
   "outputs": [],
   "source": [
    "# Remove rows with no interactions\n",
    "sparse_matrix = sparse_matrix[sparse_matrix.getnnz(axis=1) > 0]\n",
    "\n",
    "# Normalize the sparse matrix row-wise\n",
    "sparse_matrix_normalized = normalize(sparse_matrix, norm='l2', axis=1)"
   ]
  },
  {
   "cell_type": "code",
   "execution_count": 10,
   "metadata": {},
   "outputs": [
    {
     "data": {
      "text/html": [
       "<style>#sk-container-id-1 {\n",
       "  /* Definition of color scheme common for light and dark mode */\n",
       "  --sklearn-color-text: #000;\n",
       "  --sklearn-color-text-muted: #666;\n",
       "  --sklearn-color-line: gray;\n",
       "  /* Definition of color scheme for unfitted estimators */\n",
       "  --sklearn-color-unfitted-level-0: #fff5e6;\n",
       "  --sklearn-color-unfitted-level-1: #f6e4d2;\n",
       "  --sklearn-color-unfitted-level-2: #ffe0b3;\n",
       "  --sklearn-color-unfitted-level-3: chocolate;\n",
       "  /* Definition of color scheme for fitted estimators */\n",
       "  --sklearn-color-fitted-level-0: #f0f8ff;\n",
       "  --sklearn-color-fitted-level-1: #d4ebff;\n",
       "  --sklearn-color-fitted-level-2: #b3dbfd;\n",
       "  --sklearn-color-fitted-level-3: cornflowerblue;\n",
       "\n",
       "  /* Specific color for light theme */\n",
       "  --sklearn-color-text-on-default-background: var(--sg-text-color, var(--theme-code-foreground, var(--jp-content-font-color1, black)));\n",
       "  --sklearn-color-background: var(--sg-background-color, var(--theme-background, var(--jp-layout-color0, white)));\n",
       "  --sklearn-color-border-box: var(--sg-text-color, var(--theme-code-foreground, var(--jp-content-font-color1, black)));\n",
       "  --sklearn-color-icon: #696969;\n",
       "\n",
       "  @media (prefers-color-scheme: dark) {\n",
       "    /* Redefinition of color scheme for dark theme */\n",
       "    --sklearn-color-text-on-default-background: var(--sg-text-color, var(--theme-code-foreground, var(--jp-content-font-color1, white)));\n",
       "    --sklearn-color-background: var(--sg-background-color, var(--theme-background, var(--jp-layout-color0, #111)));\n",
       "    --sklearn-color-border-box: var(--sg-text-color, var(--theme-code-foreground, var(--jp-content-font-color1, white)));\n",
       "    --sklearn-color-icon: #878787;\n",
       "  }\n",
       "}\n",
       "\n",
       "#sk-container-id-1 {\n",
       "  color: var(--sklearn-color-text);\n",
       "}\n",
       "\n",
       "#sk-container-id-1 pre {\n",
       "  padding: 0;\n",
       "}\n",
       "\n",
       "#sk-container-id-1 input.sk-hidden--visually {\n",
       "  border: 0;\n",
       "  clip: rect(1px 1px 1px 1px);\n",
       "  clip: rect(1px, 1px, 1px, 1px);\n",
       "  height: 1px;\n",
       "  margin: -1px;\n",
       "  overflow: hidden;\n",
       "  padding: 0;\n",
       "  position: absolute;\n",
       "  width: 1px;\n",
       "}\n",
       "\n",
       "#sk-container-id-1 div.sk-dashed-wrapped {\n",
       "  border: 1px dashed var(--sklearn-color-line);\n",
       "  margin: 0 0.4em 0.5em 0.4em;\n",
       "  box-sizing: border-box;\n",
       "  padding-bottom: 0.4em;\n",
       "  background-color: var(--sklearn-color-background);\n",
       "}\n",
       "\n",
       "#sk-container-id-1 div.sk-container {\n",
       "  /* jupyter's `normalize.less` sets `[hidden] { display: none; }`\n",
       "     but bootstrap.min.css set `[hidden] { display: none !important; }`\n",
       "     so we also need the `!important` here to be able to override the\n",
       "     default hidden behavior on the sphinx rendered scikit-learn.org.\n",
       "     See: https://github.com/scikit-learn/scikit-learn/issues/21755 */\n",
       "  display: inline-block !important;\n",
       "  position: relative;\n",
       "}\n",
       "\n",
       "#sk-container-id-1 div.sk-text-repr-fallback {\n",
       "  display: none;\n",
       "}\n",
       "\n",
       "div.sk-parallel-item,\n",
       "div.sk-serial,\n",
       "div.sk-item {\n",
       "  /* draw centered vertical line to link estimators */\n",
       "  background-image: linear-gradient(var(--sklearn-color-text-on-default-background), var(--sklearn-color-text-on-default-background));\n",
       "  background-size: 2px 100%;\n",
       "  background-repeat: no-repeat;\n",
       "  background-position: center center;\n",
       "}\n",
       "\n",
       "/* Parallel-specific style estimator block */\n",
       "\n",
       "#sk-container-id-1 div.sk-parallel-item::after {\n",
       "  content: \"\";\n",
       "  width: 100%;\n",
       "  border-bottom: 2px solid var(--sklearn-color-text-on-default-background);\n",
       "  flex-grow: 1;\n",
       "}\n",
       "\n",
       "#sk-container-id-1 div.sk-parallel {\n",
       "  display: flex;\n",
       "  align-items: stretch;\n",
       "  justify-content: center;\n",
       "  background-color: var(--sklearn-color-background);\n",
       "  position: relative;\n",
       "}\n",
       "\n",
       "#sk-container-id-1 div.sk-parallel-item {\n",
       "  display: flex;\n",
       "  flex-direction: column;\n",
       "}\n",
       "\n",
       "#sk-container-id-1 div.sk-parallel-item:first-child::after {\n",
       "  align-self: flex-end;\n",
       "  width: 50%;\n",
       "}\n",
       "\n",
       "#sk-container-id-1 div.sk-parallel-item:last-child::after {\n",
       "  align-self: flex-start;\n",
       "  width: 50%;\n",
       "}\n",
       "\n",
       "#sk-container-id-1 div.sk-parallel-item:only-child::after {\n",
       "  width: 0;\n",
       "}\n",
       "\n",
       "/* Serial-specific style estimator block */\n",
       "\n",
       "#sk-container-id-1 div.sk-serial {\n",
       "  display: flex;\n",
       "  flex-direction: column;\n",
       "  align-items: center;\n",
       "  background-color: var(--sklearn-color-background);\n",
       "  padding-right: 1em;\n",
       "  padding-left: 1em;\n",
       "}\n",
       "\n",
       "\n",
       "/* Toggleable style: style used for estimator/Pipeline/ColumnTransformer box that is\n",
       "clickable and can be expanded/collapsed.\n",
       "- Pipeline and ColumnTransformer use this feature and define the default style\n",
       "- Estimators will overwrite some part of the style using the `sk-estimator` class\n",
       "*/\n",
       "\n",
       "/* Pipeline and ColumnTransformer style (default) */\n",
       "\n",
       "#sk-container-id-1 div.sk-toggleable {\n",
       "  /* Default theme specific background. It is overwritten whether we have a\n",
       "  specific estimator or a Pipeline/ColumnTransformer */\n",
       "  background-color: var(--sklearn-color-background);\n",
       "}\n",
       "\n",
       "/* Toggleable label */\n",
       "#sk-container-id-1 label.sk-toggleable__label {\n",
       "  cursor: pointer;\n",
       "  display: flex;\n",
       "  width: 100%;\n",
       "  margin-bottom: 0;\n",
       "  padding: 0.5em;\n",
       "  box-sizing: border-box;\n",
       "  text-align: center;\n",
       "  align-items: start;\n",
       "  justify-content: space-between;\n",
       "  gap: 0.5em;\n",
       "}\n",
       "\n",
       "#sk-container-id-1 label.sk-toggleable__label .caption {\n",
       "  font-size: 0.6rem;\n",
       "  font-weight: lighter;\n",
       "  color: var(--sklearn-color-text-muted);\n",
       "}\n",
       "\n",
       "#sk-container-id-1 label.sk-toggleable__label-arrow:before {\n",
       "  /* Arrow on the left of the label */\n",
       "  content: \"▸\";\n",
       "  float: left;\n",
       "  margin-right: 0.25em;\n",
       "  color: var(--sklearn-color-icon);\n",
       "}\n",
       "\n",
       "#sk-container-id-1 label.sk-toggleable__label-arrow:hover:before {\n",
       "  color: var(--sklearn-color-text);\n",
       "}\n",
       "\n",
       "/* Toggleable content - dropdown */\n",
       "\n",
       "#sk-container-id-1 div.sk-toggleable__content {\n",
       "  max-height: 0;\n",
       "  max-width: 0;\n",
       "  overflow: hidden;\n",
       "  text-align: left;\n",
       "  /* unfitted */\n",
       "  background-color: var(--sklearn-color-unfitted-level-0);\n",
       "}\n",
       "\n",
       "#sk-container-id-1 div.sk-toggleable__content.fitted {\n",
       "  /* fitted */\n",
       "  background-color: var(--sklearn-color-fitted-level-0);\n",
       "}\n",
       "\n",
       "#sk-container-id-1 div.sk-toggleable__content pre {\n",
       "  margin: 0.2em;\n",
       "  border-radius: 0.25em;\n",
       "  color: var(--sklearn-color-text);\n",
       "  /* unfitted */\n",
       "  background-color: var(--sklearn-color-unfitted-level-0);\n",
       "}\n",
       "\n",
       "#sk-container-id-1 div.sk-toggleable__content.fitted pre {\n",
       "  /* unfitted */\n",
       "  background-color: var(--sklearn-color-fitted-level-0);\n",
       "}\n",
       "\n",
       "#sk-container-id-1 input.sk-toggleable__control:checked~div.sk-toggleable__content {\n",
       "  /* Expand drop-down */\n",
       "  max-height: 200px;\n",
       "  max-width: 100%;\n",
       "  overflow: auto;\n",
       "}\n",
       "\n",
       "#sk-container-id-1 input.sk-toggleable__control:checked~label.sk-toggleable__label-arrow:before {\n",
       "  content: \"▾\";\n",
       "}\n",
       "\n",
       "/* Pipeline/ColumnTransformer-specific style */\n",
       "\n",
       "#sk-container-id-1 div.sk-label input.sk-toggleable__control:checked~label.sk-toggleable__label {\n",
       "  color: var(--sklearn-color-text);\n",
       "  background-color: var(--sklearn-color-unfitted-level-2);\n",
       "}\n",
       "\n",
       "#sk-container-id-1 div.sk-label.fitted input.sk-toggleable__control:checked~label.sk-toggleable__label {\n",
       "  background-color: var(--sklearn-color-fitted-level-2);\n",
       "}\n",
       "\n",
       "/* Estimator-specific style */\n",
       "\n",
       "/* Colorize estimator box */\n",
       "#sk-container-id-1 div.sk-estimator input.sk-toggleable__control:checked~label.sk-toggleable__label {\n",
       "  /* unfitted */\n",
       "  background-color: var(--sklearn-color-unfitted-level-2);\n",
       "}\n",
       "\n",
       "#sk-container-id-1 div.sk-estimator.fitted input.sk-toggleable__control:checked~label.sk-toggleable__label {\n",
       "  /* fitted */\n",
       "  background-color: var(--sklearn-color-fitted-level-2);\n",
       "}\n",
       "\n",
       "#sk-container-id-1 div.sk-label label.sk-toggleable__label,\n",
       "#sk-container-id-1 div.sk-label label {\n",
       "  /* The background is the default theme color */\n",
       "  color: var(--sklearn-color-text-on-default-background);\n",
       "}\n",
       "\n",
       "/* On hover, darken the color of the background */\n",
       "#sk-container-id-1 div.sk-label:hover label.sk-toggleable__label {\n",
       "  color: var(--sklearn-color-text);\n",
       "  background-color: var(--sklearn-color-unfitted-level-2);\n",
       "}\n",
       "\n",
       "/* Label box, darken color on hover, fitted */\n",
       "#sk-container-id-1 div.sk-label.fitted:hover label.sk-toggleable__label.fitted {\n",
       "  color: var(--sklearn-color-text);\n",
       "  background-color: var(--sklearn-color-fitted-level-2);\n",
       "}\n",
       "\n",
       "/* Estimator label */\n",
       "\n",
       "#sk-container-id-1 div.sk-label label {\n",
       "  font-family: monospace;\n",
       "  font-weight: bold;\n",
       "  display: inline-block;\n",
       "  line-height: 1.2em;\n",
       "}\n",
       "\n",
       "#sk-container-id-1 div.sk-label-container {\n",
       "  text-align: center;\n",
       "}\n",
       "\n",
       "/* Estimator-specific */\n",
       "#sk-container-id-1 div.sk-estimator {\n",
       "  font-family: monospace;\n",
       "  border: 1px dotted var(--sklearn-color-border-box);\n",
       "  border-radius: 0.25em;\n",
       "  box-sizing: border-box;\n",
       "  margin-bottom: 0.5em;\n",
       "  /* unfitted */\n",
       "  background-color: var(--sklearn-color-unfitted-level-0);\n",
       "}\n",
       "\n",
       "#sk-container-id-1 div.sk-estimator.fitted {\n",
       "  /* fitted */\n",
       "  background-color: var(--sklearn-color-fitted-level-0);\n",
       "}\n",
       "\n",
       "/* on hover */\n",
       "#sk-container-id-1 div.sk-estimator:hover {\n",
       "  /* unfitted */\n",
       "  background-color: var(--sklearn-color-unfitted-level-2);\n",
       "}\n",
       "\n",
       "#sk-container-id-1 div.sk-estimator.fitted:hover {\n",
       "  /* fitted */\n",
       "  background-color: var(--sklearn-color-fitted-level-2);\n",
       "}\n",
       "\n",
       "/* Specification for estimator info (e.g. \"i\" and \"?\") */\n",
       "\n",
       "/* Common style for \"i\" and \"?\" */\n",
       "\n",
       ".sk-estimator-doc-link,\n",
       "a:link.sk-estimator-doc-link,\n",
       "a:visited.sk-estimator-doc-link {\n",
       "  float: right;\n",
       "  font-size: smaller;\n",
       "  line-height: 1em;\n",
       "  font-family: monospace;\n",
       "  background-color: var(--sklearn-color-background);\n",
       "  border-radius: 1em;\n",
       "  height: 1em;\n",
       "  width: 1em;\n",
       "  text-decoration: none !important;\n",
       "  margin-left: 0.5em;\n",
       "  text-align: center;\n",
       "  /* unfitted */\n",
       "  border: var(--sklearn-color-unfitted-level-1) 1pt solid;\n",
       "  color: var(--sklearn-color-unfitted-level-1);\n",
       "}\n",
       "\n",
       ".sk-estimator-doc-link.fitted,\n",
       "a:link.sk-estimator-doc-link.fitted,\n",
       "a:visited.sk-estimator-doc-link.fitted {\n",
       "  /* fitted */\n",
       "  border: var(--sklearn-color-fitted-level-1) 1pt solid;\n",
       "  color: var(--sklearn-color-fitted-level-1);\n",
       "}\n",
       "\n",
       "/* On hover */\n",
       "div.sk-estimator:hover .sk-estimator-doc-link:hover,\n",
       ".sk-estimator-doc-link:hover,\n",
       "div.sk-label-container:hover .sk-estimator-doc-link:hover,\n",
       ".sk-estimator-doc-link:hover {\n",
       "  /* unfitted */\n",
       "  background-color: var(--sklearn-color-unfitted-level-3);\n",
       "  color: var(--sklearn-color-background);\n",
       "  text-decoration: none;\n",
       "}\n",
       "\n",
       "div.sk-estimator.fitted:hover .sk-estimator-doc-link.fitted:hover,\n",
       ".sk-estimator-doc-link.fitted:hover,\n",
       "div.sk-label-container:hover .sk-estimator-doc-link.fitted:hover,\n",
       ".sk-estimator-doc-link.fitted:hover {\n",
       "  /* fitted */\n",
       "  background-color: var(--sklearn-color-fitted-level-3);\n",
       "  color: var(--sklearn-color-background);\n",
       "  text-decoration: none;\n",
       "}\n",
       "\n",
       "/* Span, style for the box shown on hovering the info icon */\n",
       ".sk-estimator-doc-link span {\n",
       "  display: none;\n",
       "  z-index: 9999;\n",
       "  position: relative;\n",
       "  font-weight: normal;\n",
       "  right: .2ex;\n",
       "  padding: .5ex;\n",
       "  margin: .5ex;\n",
       "  width: min-content;\n",
       "  min-width: 20ex;\n",
       "  max-width: 50ex;\n",
       "  color: var(--sklearn-color-text);\n",
       "  box-shadow: 2pt 2pt 4pt #999;\n",
       "  /* unfitted */\n",
       "  background: var(--sklearn-color-unfitted-level-0);\n",
       "  border: .5pt solid var(--sklearn-color-unfitted-level-3);\n",
       "}\n",
       "\n",
       ".sk-estimator-doc-link.fitted span {\n",
       "  /* fitted */\n",
       "  background: var(--sklearn-color-fitted-level-0);\n",
       "  border: var(--sklearn-color-fitted-level-3);\n",
       "}\n",
       "\n",
       ".sk-estimator-doc-link:hover span {\n",
       "  display: block;\n",
       "}\n",
       "\n",
       "/* \"?\"-specific style due to the `<a>` HTML tag */\n",
       "\n",
       "#sk-container-id-1 a.estimator_doc_link {\n",
       "  float: right;\n",
       "  font-size: 1rem;\n",
       "  line-height: 1em;\n",
       "  font-family: monospace;\n",
       "  background-color: var(--sklearn-color-background);\n",
       "  border-radius: 1rem;\n",
       "  height: 1rem;\n",
       "  width: 1rem;\n",
       "  text-decoration: none;\n",
       "  /* unfitted */\n",
       "  color: var(--sklearn-color-unfitted-level-1);\n",
       "  border: var(--sklearn-color-unfitted-level-1) 1pt solid;\n",
       "}\n",
       "\n",
       "#sk-container-id-1 a.estimator_doc_link.fitted {\n",
       "  /* fitted */\n",
       "  border: var(--sklearn-color-fitted-level-1) 1pt solid;\n",
       "  color: var(--sklearn-color-fitted-level-1);\n",
       "}\n",
       "\n",
       "/* On hover */\n",
       "#sk-container-id-1 a.estimator_doc_link:hover {\n",
       "  /* unfitted */\n",
       "  background-color: var(--sklearn-color-unfitted-level-3);\n",
       "  color: var(--sklearn-color-background);\n",
       "  text-decoration: none;\n",
       "}\n",
       "\n",
       "#sk-container-id-1 a.estimator_doc_link.fitted:hover {\n",
       "  /* fitted */\n",
       "  background-color: var(--sklearn-color-fitted-level-3);\n",
       "}\n",
       "</style><div id=\"sk-container-id-1\" class=\"sk-top-container\"><div class=\"sk-text-repr-fallback\"><pre>NearestNeighbors(metric=&#x27;cosine&#x27;)</pre><b>In a Jupyter environment, please rerun this cell to show the HTML representation or trust the notebook. <br />On GitHub, the HTML representation is unable to render, please try loading this page with nbviewer.org.</b></div><div class=\"sk-container\" hidden><div class=\"sk-item\"><div class=\"sk-estimator fitted sk-toggleable\"><input class=\"sk-toggleable__control sk-hidden--visually\" id=\"sk-estimator-id-1\" type=\"checkbox\" checked><label for=\"sk-estimator-id-1\" class=\"sk-toggleable__label fitted sk-toggleable__label-arrow\"><div><div>NearestNeighbors</div></div><div><a class=\"sk-estimator-doc-link fitted\" rel=\"noreferrer\" target=\"_blank\" href=\"https://scikit-learn.org/1.6/modules/generated/sklearn.neighbors.NearestNeighbors.html\">?<span>Documentation for NearestNeighbors</span></a><span class=\"sk-estimator-doc-link fitted\">i<span>Fitted</span></span></div></label><div class=\"sk-toggleable__content fitted\"><pre>NearestNeighbors(metric=&#x27;cosine&#x27;)</pre></div> </div></div></div></div>"
      ],
      "text/plain": [
       "NearestNeighbors(metric='cosine')"
      ]
     },
     "execution_count": 10,
     "metadata": {},
     "output_type": "execute_result"
    }
   ],
   "source": [
    "# Train a KNN model\n",
    "model = NearestNeighbors(metric='cosine')\n",
    "model.fit(sparse_matrix_normalized)"
   ]
  },
  {
   "cell_type": "code",
   "execution_count": 11,
   "metadata": {},
   "outputs": [
    {
     "name": "stdout",
     "output_type": "stream",
     "text": [
      "Distances: [[0. 0. 0. ... 1. 1. 1.]]\n",
      "Indices of neighbors: [[  5948   4616   3962 ... 577920 577905 577913]]\n"
     ]
    }
   ],
   "source": [
    "# Find neighbors for a user (e.g., the first user in the matrix)\n",
    "distances, indices = model.kneighbors(sparse_matrix[0], n_neighbors=3000)\n",
    "\n",
    "print(\"Distances:\", distances)\n",
    "print(\"Indices of neighbors:\", indices)"
   ]
  },
  {
   "cell_type": "code",
   "execution_count": 12,
   "metadata": {},
   "outputs": [
    {
     "name": "stdout",
     "output_type": "stream",
     "text": [
      "Filtered User IDs (distances not 0 or 1): []\n"
     ]
    }
   ],
   "source": [
    "# Filter indices where distances are neither 0 nor 1\n",
    "filtered_indices = [indices[0][i] for i in range(len(distances[0])) if distances[0][i] != 0 and distances[0][i] != 1]\n",
    "\n",
    "print(\"Filtered User IDs (distances not 0 or 1):\", filtered_indices)"
   ]
  },
  {
   "cell_type": "code",
   "execution_count": 13,
   "metadata": {},
   "outputs": [
    {
     "name": "stdout",
     "output_type": "stream",
     "text": [
      "User ID for index 500: 003a7e970c4fa0a05483723b3139a68b86367eef3d03154fedb610119d41817b\n",
      "User ID for index 91104: 28607d5a04b09f40921c1d6ee4e14e276f462a086a2c1e3b1a3e059daa16f403\n"
     ]
    }
   ],
   "source": [
    "# Get the mapping from matrix index to userId\n",
    "user_id_mapping = pd.Series(new_df['userId'].astype('category').cat.categories)\n",
    "\n",
    "# Get the userId for index 500 and 577915\n",
    "user_id_500 = user_id_mapping.iloc[500]\n",
    "user_id_91104 = user_id_mapping.iloc[91104]\n",
    "\n",
    "print(\"User ID for index 500:\", user_id_500)\n",
    "print(\"User ID for index 91104:\", user_id_91104)\n"
   ]
  },
  {
   "cell_type": "code",
   "execution_count": 14,
   "metadata": {},
   "outputs": [
    {
     "name": "stdout",
     "output_type": "stream",
     "text": [
      "News consumed by User 500:\n",
      "                                                     title  \\\n",
      "339684  Após Covid-19, professora de educação física l...   \n",
      "\n",
      "       scrollPercentageHistory  \n",
      "339684                   59.18  \n",
      "News consumed by User 91104:\n",
      "                                                     title  \\\n",
      "336454  Após Covid-19, professora de educação física l...   \n",
      "\n",
      "       scrollPercentageHistory  \n",
      "336454                   24.04  \n"
     ]
    }
   ],
   "source": [
    "# Get news consumed by each user\n",
    "news_500 = knn_df[knn_df['userId'] == user_id_500]\n",
    "news_91104 = knn_df[knn_df['userId'] == user_id_91104]\n",
    "\n",
    "print(\"News consumed by User 500:\\n\", news_500[['title', 'scrollPercentageHistory']])\n",
    "print(\"News consumed by User 91104:\\n\", news_91104[['title', 'scrollPercentageHistory']])\n"
   ]
  },
  {
   "cell_type": "code",
   "execution_count": 15,
   "metadata": {},
   "outputs": [
    {
     "name": "stdout",
     "output_type": "stream",
     "text": [
      "Comparison of common news:\n",
      "                                                title  \\\n",
      "0  Após Covid-19, professora de educação física l...   \n",
      "\n",
      "  scrollPercentageHistory_500 scrollPercentageHistory_577915  \n",
      "0                       59.18                          24.04  \n"
     ]
    }
   ],
   "source": [
    "# Find common news titles\n",
    "common_titles = set(news_500['title']).intersection(set(news_91104['title']))\n",
    "\n",
    "# Compare scroll percentage for common news\n",
    "comparison = news_500[news_500['title'].isin(common_titles)].merge(\n",
    "    news_91104[news_91104['title'].isin(common_titles)],\n",
    "    on='title',\n",
    "    suffixes=('_500', '_577915')\n",
    ")\n",
    "\n",
    "print(\"Comparison of common news:\\n\", comparison[['title', 'scrollPercentageHistory_500', 'scrollPercentageHistory_577915']])\n"
   ]
  },
  {
   "cell_type": "code",
   "execution_count": 16,
   "metadata": {},
   "outputs": [
    {
     "name": "stdout",
     "output_type": "stream",
     "text": [
      "Titles consumed by User 500: {'Após Covid-19, professora de educação física luta para recuperar movimento de perna:  Como se não tivesse esta parte '}\n",
      "Titles consumed by User 91104: {'Após Covid-19, professora de educação física luta para recuperar movimento de perna:  Como se não tivesse esta parte '}\n"
     ]
    }
   ],
   "source": [
    "# Get news consumed by each user\n",
    "news_500 = knn_df[knn_df['userId'] == user_id_500]\n",
    "news_91104 = knn_df[knn_df['userId'] == user_id_91104]\n",
    "\n",
    "# Get the titles consumed by both users\n",
    "titles_500 = set(news_500['title'])\n",
    "titles_91104 = set(news_91104['title'])\n",
    "\n",
    "print(\"Titles consumed by User 500:\", titles_500)\n",
    "print(\"Titles consumed by User 91104:\", titles_91104)\n"
   ]
  },
  {
   "cell_type": "code",
   "execution_count": 17,
   "metadata": {},
   "outputs": [
    {
     "name": "stdout",
     "output_type": "stream",
     "text": [
      "News consumed by User 577915 but not User 500:\n",
      " Empty DataFrame\n",
      "Columns: [title, scrollPercentageHistory]\n",
      "Index: []\n"
     ]
    }
   ],
   "source": [
    "# Find titles consumed by user 577915 but not user 500\n",
    "unique_titles_91104 = titles_91104 - titles_500\n",
    "\n",
    "# Get the news rows for these unique titles\n",
    "unique_titles_91104 = news_91104[news_91104['title'].isin(unique_titles_91104)]\n",
    "\n",
    "print(\"News consumed by User 577915 but not User 500:\\n\", unique_titles_91104[['title', 'scrollPercentageHistory']])\n"
   ]
  },
  {
   "cell_type": "markdown",
   "metadata": {},
   "source": [
    "### ALS Test"
   ]
  },
  {
   "cell_type": "markdown",
   "metadata": {},
   "source": [
    "#### Recommender by Category"
   ]
  },
  {
   "cell_type": "code",
   "execution_count": 13,
   "metadata": {},
   "outputs": [
    {
     "data": {
      "text/html": [
       "<div>\n",
       "<style scoped>\n",
       "    .dataframe tbody tr th:only-of-type {\n",
       "        vertical-align: middle;\n",
       "    }\n",
       "\n",
       "    .dataframe tbody tr th {\n",
       "        vertical-align: top;\n",
       "    }\n",
       "\n",
       "    .dataframe thead th {\n",
       "        text-align: right;\n",
       "    }\n",
       "</style>\n",
       "<table border=\"1\" class=\"dataframe\">\n",
       "  <thead>\n",
       "    <tr style=\"text-align: right;\">\n",
       "      <th></th>\n",
       "      <th>userId</th>\n",
       "      <th>category</th>\n",
       "      <th>engagement_score</th>\n",
       "    </tr>\n",
       "  </thead>\n",
       "  <tbody>\n",
       "    <tr>\n",
       "      <th>0</th>\n",
       "      <td>000044b36375e7f1a66a9476affc2ddc83c2ec6dd18951...</td>\n",
       "      <td>bahia</td>\n",
       "      <td>15.563662</td>\n",
       "    </tr>\n",
       "    <tr>\n",
       "      <th>1</th>\n",
       "      <td>00004868f064a8147619ca4d75eac9ccabfbe1169840e6...</td>\n",
       "      <td>santa-catarina</td>\n",
       "      <td>3.534658</td>\n",
       "    </tr>\n",
       "    <tr>\n",
       "      <th>2</th>\n",
       "      <td>00007a4e5949a3dba7c977503c53e0873643fe17d0802a...</td>\n",
       "      <td></td>\n",
       "      <td>2.845990</td>\n",
       "    </tr>\n",
       "    <tr>\n",
       "      <th>3</th>\n",
       "      <td>000087b05ccb95dec5d55e968764285c5403747fc35da2...</td>\n",
       "      <td>turismo-e-viagem</td>\n",
       "      <td>15.564465</td>\n",
       "    </tr>\n",
       "    <tr>\n",
       "      <th>4</th>\n",
       "      <td>00011b1ced626112372206634e0e9b5ccb432da916e83f...</td>\n",
       "      <td></td>\n",
       "      <td>5.015443</td>\n",
       "    </tr>\n",
       "  </tbody>\n",
       "</table>\n",
       "</div>"
      ],
      "text/plain": [
       "                                              userId          category  \\\n",
       "0  000044b36375e7f1a66a9476affc2ddc83c2ec6dd18951...             bahia   \n",
       "1  00004868f064a8147619ca4d75eac9ccabfbe1169840e6...    santa-catarina   \n",
       "2  00007a4e5949a3dba7c977503c53e0873643fe17d0802a...                     \n",
       "3  000087b05ccb95dec5d55e968764285c5403747fc35da2...  turismo-e-viagem   \n",
       "4  00011b1ced626112372206634e0e9b5ccb432da916e83f...                     \n",
       "\n",
       "   engagement_score  \n",
       "0         15.563662  \n",
       "1          3.534658  \n",
       "2          2.845990  \n",
       "3         15.564465  \n",
       "4          5.015443  "
      ]
     },
     "execution_count": 13,
     "metadata": {},
     "output_type": "execute_result"
    }
   ],
   "source": [
    "category_data = als_df.groupby(['userId', 'category'])['engagement_score'].sum().reset_index()\n",
    "category_data.head()"
   ]
  },
  {
   "cell_type": "code",
   "execution_count": 14,
   "metadata": {},
   "outputs": [
    {
     "name": "stdout",
     "output_type": "stream",
     "text": [
      "0007ebffed6c21f1e0ddaafaa9555facd14eeeda57a6e3ffdde8fe35e0fa7ece\n"
     ]
    }
   ],
   "source": [
    "print(category_data['userId'][50])"
   ]
  },
  {
   "cell_type": "code",
   "execution_count": 15,
   "metadata": {},
   "outputs": [],
   "source": [
    "# Create mappings for user and category IDs\n",
    "user_mapping = {user: i for i, user in enumerate(category_data['userId'].unique())}\n",
    "category_mapping = {cat: i for i, cat in enumerate(category_data['category'].unique())}\n",
    "\n",
    "# Map IDs\n",
    "category_data['user_id_mapped'] = category_data['userId'].map(user_mapping)\n",
    "category_data['category_id_mapped'] = category_data['category'].map(category_mapping)\n",
    "\n",
    "# Create sparse matrix\n",
    "user_category_matrix = csr_matrix((\n",
    "    category_data['engagement_score'],\n",
    "    (category_data['user_id_mapped'], category_data['category_id_mapped'])\n",
    "))"
   ]
  },
  {
   "cell_type": "code",
   "execution_count": 16,
   "metadata": {},
   "outputs": [
    {
     "name": "stderr",
     "output_type": "stream",
     "text": [
      "c:\\Projects\\Globo_Recommendation_FIAP\\.venv\\Lib\\site-packages\\implicit\\cpu\\als.py:95: RuntimeWarning: OpenBLAS is configured to use 12 threads. It is highly recommended to disable its internal threadpool by setting the environment variable 'OPENBLAS_NUM_THREADS=1' or by calling 'threadpoolctl.threadpool_limits(1, \"blas\")'. Having OpenBLAS use a threadpool can lead to severe performance issues here.\n",
      "  check_blas_config()\n",
      "c:\\Projects\\Globo_Recommendation_FIAP\\.venv\\Lib\\site-packages\\implicit\\utils.py:164: ParameterWarning: Method expects CSR input, and was passed csc_matrix instead. Converting to CSR took 0.004998445510864258 seconds\n",
      "  warnings.warn(\n",
      "100%|██████████| 20/20 [00:09<00:00,  2.04it/s]\n"
     ]
    }
   ],
   "source": [
    "category_model = AlternatingLeastSquares(factors=10, regularization=0.1, iterations=20)\n",
    "category_model.fit(user_category_matrix.T)  # Transpose for the `implicit` library"
   ]
  },
  {
   "cell_type": "code",
   "execution_count": 17,
   "metadata": {},
   "outputs": [],
   "source": [
    "user_index = user_mapping['0007ebffed6c21f1e0ddaafaa9555facd14eeeda57a6e3ffdde8fe35e0fa7ece']\n",
    "#user_id = 1  # Example user\n",
    "recommendations = category_model.recommend(user_index, user_category_matrix[user_index], N=5)\n"
   ]
  },
  {
   "cell_type": "code",
   "execution_count": 18,
   "metadata": {},
   "outputs": [
    {
     "name": "stdout",
     "output_type": "stream",
     "text": [
      "Category: 16914\n",
      "Category Name: vacina\n",
      "Score: 2.548360824584961\n",
      "Category: 551677\n",
      "Category Name: caminhos-do-campo\n",
      "Score: 1.9821887016296387\n",
      "Category: 228013\n",
      "Category Name: vacinas\n",
      "Score: 1.915966510772705\n",
      "Category: 403641\n",
      "Category Name: transito\n",
      "Score: 1.850183367729187\n",
      "Category: 138932\n",
      "Category Name: vacinas\n",
      "Score: 1.6494094133377075\n"
     ]
    }
   ],
   "source": [
    "for category_id, score in zip(recommendations[0], recommendations[1]):\n",
    "    category_name = category_mapping.get(category_id, \"Unknown Category\")  # Get category name or fallback to \"Unknown\"\n",
    "    print(f\"Category: {category_id}\")\n",
    "    print(f\"Category Name: {category_data['category'][category_id]}\")\n",
    "    print(f\"Score: {score}\")"
   ]
  },
  {
   "cell_type": "markdown",
   "metadata": {},
   "source": [
    "#### Recommender by Sub-Category"
   ]
  },
  {
   "cell_type": "code",
   "execution_count": 19,
   "metadata": {},
   "outputs": [],
   "source": [
    "subcategory_data = als_df.groupby(['userId', 'sub_category'])['engagement_score'].sum().reset_index()"
   ]
  },
  {
   "cell_type": "code",
   "execution_count": 20,
   "metadata": {},
   "outputs": [],
   "source": [
    "# Create mappings for user and category IDs\n",
    "user_mapping = {user: i for i, user in enumerate(subcategory_data['userId'].unique())}\n",
    "subcategory_mapping = {cat: i for i, cat in enumerate(subcategory_data['sub_category'].unique())}\n",
    "\n",
    "# Map IDs\n",
    "subcategory_data['user_id_mapped'] = subcategory_data['userId'].map(user_mapping)\n",
    "subcategory_data['subcategory_id_mapped'] = subcategory_data['sub_category'].map(subcategory_mapping)\n",
    "\n",
    "# Create sparse matrix\n",
    "user_subcategory_matrix = csr_matrix((\n",
    "    subcategory_data['engagement_score'],\n",
    "    (subcategory_data['user_id_mapped'], subcategory_data['subcategory_id_mapped'])\n",
    "))"
   ]
  },
  {
   "cell_type": "code",
   "execution_count": 21,
   "metadata": {},
   "outputs": [
    {
     "name": "stderr",
     "output_type": "stream",
     "text": [
      "c:\\Projects\\Globo_Recommendation_FIAP\\.venv\\Lib\\site-packages\\implicit\\utils.py:164: ParameterWarning: Method expects CSR input, and was passed csc_matrix instead. Converting to CSR took 0.0049991607666015625 seconds\n",
      "  warnings.warn(\n",
      "100%|██████████| 20/20 [00:09<00:00,  2.03it/s]\n"
     ]
    }
   ],
   "source": [
    "subcategory_model = AlternatingLeastSquares(factors=10, regularization=0.1, iterations=20)\n",
    "subcategory_model.fit(user_category_matrix.T)  # Transpose for the `implicit` library"
   ]
  },
  {
   "cell_type": "code",
   "execution_count": 22,
   "metadata": {},
   "outputs": [],
   "source": [
    "user_index = user_mapping['0007ebffed6c21f1e0ddaafaa9555facd14eeeda57a6e3ffdde8fe35e0fa7ece']\n",
    "#user_id = 1  # Example user\n",
    "sub_category_recommendations = subcategory_model.recommend(user_index, user_subcategory_matrix[user_index], N=5)"
   ]
  },
  {
   "cell_type": "code",
   "execution_count": 23,
   "metadata": {},
   "outputs": [
    {
     "name": "stdout",
     "output_type": "stream",
     "text": [
      "Category: 228013\n",
      "Category Name: noticia\n",
      "Score: 2.0174736976623535\n",
      "Category: 138932\n",
      "Category Name: noticia\n",
      "Score: 1.7368409633636475\n",
      "Category: 439291\n",
      "Category Name: post\n",
      "Score: 1.6716045141220093\n",
      "Category: 554196\n",
      "Category Name: noticia\n",
      "Score: 1.548399806022644\n",
      "Category: 481136\n",
      "Category Name: noticia\n",
      "Score: 1.5142359733581543\n"
     ]
    }
   ],
   "source": [
    "for subcategory_id, score in zip(sub_category_recommendations[0], sub_category_recommendations[1]):\n",
    "    # sub_category_name = category_mapping.get(category_id, \"Unknown Category\")  # Get category name or fallback to \"Unknown\"\n",
    "    print(f\"Category: {subcategory_id}\")\n",
    "    print(f\"Category Name: {subcategory_data['sub_category'][subcategory_id]}\")\n",
    "    print(f\"Score: {score}\")"
   ]
  },
  {
   "cell_type": "markdown",
   "metadata": {},
   "source": [
    "#### News Recommender"
   ]
  },
  {
   "cell_type": "code",
   "execution_count": 143,
   "metadata": {},
   "outputs": [
    {
     "name": "stdout",
     "output_type": "stream",
     "text": [
      "Train lengh = 8042711\n",
      "Test lengh = 81240\n"
     ]
    }
   ],
   "source": [
    "data_smaller = data.head(200000)\n",
    "train, test = train_test_split(data, test_size=0.01)\n",
    "print(f'Train lengh = {len(train)}')\n",
    "print(f'Test lengh = {len(test)}')"
   ]
  },
  {
   "cell_type": "code",
   "execution_count": 144,
   "metadata": {},
   "outputs": [],
   "source": [
    "user_map = {u: i for i, u in enumerate(data['userId'])}\n",
    "item_map = {p: i for i, p in enumerate(data['history'])}\n",
    "user_index_to_id = {v: k for k, v in user_map.items()}\n",
    "item_index_to_id = {v: k for k, v in item_map.items()} "
   ]
  },
  {
   "cell_type": "markdown",
   "metadata": {},
   "source": [
    "##### Train"
   ]
  },
  {
   "cell_type": "code",
   "execution_count": 145,
   "metadata": {},
   "outputs": [],
   "source": [
    "train['userId_idx'] = train['userId'].map(user_map)\n",
    "train['history_idx'] = train['history'].map(item_map)\n",
    "train_matrix = coo_matrix((\n",
    "    train['engagement_score'],\n",
    "    (train['userId_idx'], train['history_idx']),\n",
    ")).tocsr()"
   ]
  },
  {
   "cell_type": "markdown",
   "metadata": {},
   "source": [
    "##### Test"
   ]
  },
  {
   "cell_type": "code",
   "execution_count": 146,
   "metadata": {},
   "outputs": [
    {
     "data": {
      "text/html": [
       "<div>\n",
       "<style scoped>\n",
       "    .dataframe tbody tr th:only-of-type {\n",
       "        vertical-align: middle;\n",
       "    }\n",
       "\n",
       "    .dataframe tbody tr th {\n",
       "        vertical-align: top;\n",
       "    }\n",
       "\n",
       "    .dataframe thead th {\n",
       "        text-align: right;\n",
       "    }\n",
       "</style>\n",
       "<table border=\"1\" class=\"dataframe\">\n",
       "  <thead>\n",
       "    <tr style=\"text-align: right;\">\n",
       "      <th></th>\n",
       "      <th>userId</th>\n",
       "      <th>history</th>\n",
       "      <th>engagement_score_pca</th>\n",
       "      <th>engagement_score</th>\n",
       "      <th>userId_idx</th>\n",
       "      <th>history_idx</th>\n",
       "    </tr>\n",
       "  </thead>\n",
       "  <tbody>\n",
       "    <tr>\n",
       "      <th>5235276</th>\n",
       "      <td>0ad8012f64119ac212d11161efde953469473e11787f5e...</td>\n",
       "      <td>e650aae9-2b05-4564-9ce7-108a31c4de20</td>\n",
       "      <td>-0.985446</td>\n",
       "      <td>3.412672</td>\n",
       "      <td>5235681</td>\n",
       "      <td>8118172</td>\n",
       "    </tr>\n",
       "    <tr>\n",
       "      <th>4728645</th>\n",
       "      <td>d3d60a43a97d39c62433030bf81591a1333b88e2cac3dd...</td>\n",
       "      <td>945fe586-7082-4cb4-a915-c1023f56f7ae</td>\n",
       "      <td>-0.657178</td>\n",
       "      <td>3.348673</td>\n",
       "      <td>4728664</td>\n",
       "      <td>8119992</td>\n",
       "    </tr>\n",
       "    <tr>\n",
       "      <th>2206604</th>\n",
       "      <td>9414e77e9d59bb6ed6fe2b2760d1d5b49b5bd76b8da299...</td>\n",
       "      <td>d2593c3d-2347-40d9-948c-b6065e8459a9</td>\n",
       "      <td>-0.028997</td>\n",
       "      <td>32.061789</td>\n",
       "      <td>2206608</td>\n",
       "      <td>8123740</td>\n",
       "    </tr>\n",
       "    <tr>\n",
       "      <th>8047802</th>\n",
       "      <td>fe56cad55f42166e46b27d5a03de2a8847786920b74703...</td>\n",
       "      <td>e3ccb6c1-0a55-4cd3-b818-f98be256f193</td>\n",
       "      <td>3.339475</td>\n",
       "      <td>38.440877</td>\n",
       "      <td>8047811</td>\n",
       "      <td>8121653</td>\n",
       "    </tr>\n",
       "    <tr>\n",
       "      <th>6004793</th>\n",
       "      <td>306ef2b027e436c1f798f324e407296f1300e0eef0144b...</td>\n",
       "      <td>09c77143-7858-4d15-9dcd-b1c4b006024b</td>\n",
       "      <td>-0.872235</td>\n",
       "      <td>7.515337</td>\n",
       "      <td>6004793</td>\n",
       "      <td>7945677</td>\n",
       "    </tr>\n",
       "  </tbody>\n",
       "</table>\n",
       "</div>"
      ],
      "text/plain": [
       "                                                    userId  \\\n",
       "5235276  0ad8012f64119ac212d11161efde953469473e11787f5e...   \n",
       "4728645  d3d60a43a97d39c62433030bf81591a1333b88e2cac3dd...   \n",
       "2206604  9414e77e9d59bb6ed6fe2b2760d1d5b49b5bd76b8da299...   \n",
       "8047802  fe56cad55f42166e46b27d5a03de2a8847786920b74703...   \n",
       "6004793  306ef2b027e436c1f798f324e407296f1300e0eef0144b...   \n",
       "\n",
       "                                       history  engagement_score_pca  \\\n",
       "5235276   e650aae9-2b05-4564-9ce7-108a31c4de20             -0.985446   \n",
       "4728645   945fe586-7082-4cb4-a915-c1023f56f7ae             -0.657178   \n",
       "2206604   d2593c3d-2347-40d9-948c-b6065e8459a9             -0.028997   \n",
       "8047802   e3ccb6c1-0a55-4cd3-b818-f98be256f193              3.339475   \n",
       "6004793   09c77143-7858-4d15-9dcd-b1c4b006024b             -0.872235   \n",
       "\n",
       "         engagement_score  userId_idx  history_idx  \n",
       "5235276          3.412672     5235681      8118172  \n",
       "4728645          3.348673     4728664      8119992  \n",
       "2206604         32.061789     2206608      8123740  \n",
       "8047802         38.440877     8047811      8121653  \n",
       "6004793          7.515337     6004793      7945677  "
      ]
     },
     "execution_count": 146,
     "metadata": {},
     "output_type": "execute_result"
    }
   ],
   "source": [
    "test['userId_idx'] = test['userId'].map(user_map)\n",
    "test['history_idx'] = test['history'].map(item_map)\n",
    "test.head()\n"
   ]
  },
  {
   "cell_type": "code",
   "execution_count": 122,
   "metadata": {},
   "outputs": [
    {
     "data": {
      "text/plain": [
       "array(['0985af1b52a6985dea793566f245818797fd801daf1e654f9797c2e94fb2a5c2',\n",
       "       'b1249bbcde58b1758031e3a096d11be56a3b102ec88803d572e125b8364e0f4d',\n",
       "       'fa2c28541390c4c0577b0e64cb98612299cc355011d24f864128f3691ab81807',\n",
       "       ...,\n",
       "       '978761548b120dede09209a8ed81fc68007118bda3006916fd991976731c1e40',\n",
       "       'fd566fdc9dea6e4c5a5465c588dec68937a97d39ca052ea280b68b8b7f909b80',\n",
       "       '9533dc04babb33e598fe1b6aaa35c9c9ceda25e71213a8199a04d424c14a7228'],\n",
       "      dtype=object)"
      ]
     },
     "execution_count": 122,
     "metadata": {},
     "output_type": "execute_result"
    }
   ],
   "source": [
    "users = test['userId'].unique()\n",
    "users"
   ]
  },
  {
   "cell_type": "markdown",
   "metadata": {},
   "source": [
    "##### Model"
   ]
  },
  {
   "cell_type": "code",
   "execution_count": 140,
   "metadata": {},
   "outputs": [
    {
     "name": "stderr",
     "output_type": "stream",
     "text": [
      "100%|██████████| 20/20 [01:17<00:00,  3.86s/it]\n"
     ]
    }
   ],
   "source": [
    "news_model = AlternatingLeastSquares(factors=100, regularization=0.01, iterations=20)\n",
    "news_model.fit(train_matrix)"
   ]
  },
  {
   "cell_type": "code",
   "execution_count": 70,
   "metadata": {},
   "outputs": [
    {
     "data": {
      "text/plain": [
       "{np.int64(34), np.int64(42), np.int64(98725)}"
      ]
     },
     "execution_count": 70,
     "metadata": {},
     "output_type": "execute_result"
    }
   ],
   "source": [
    "# lembrar de olhar pois a logica parece fazer sentido\n",
    "# test_interactions = test_matrix[62].toarray().flatten()\n",
    "# relevant_items = set(np.where(test_interactions > 0)[0])\n",
    "# relevant_items"
   ]
  },
  {
   "cell_type": "code",
   "execution_count": 44,
   "metadata": {},
   "outputs": [],
   "source": [
    "user_index = user_map['cd7c50c6019a830dfc4e083cdad118694cf22483a4a67c02c49d5ae7968796d5']\n",
    "news_recommendations = news_model.recommend(user_index, train_matrix[user_index], N=5)"
   ]
  },
  {
   "cell_type": "code",
   "execution_count": 45,
   "metadata": {},
   "outputs": [
    {
     "name": "stdout",
     "output_type": "stream",
     "text": [
      "<class 'numpy.ndarray'>\n",
      "[79763, (array([99869, 99614, 99820, 99647, 99496], dtype=int32), array([0.02885162, 0.01433471, 0.01398447, 0.01290909, 0.01269918],\n",
      "      dtype=float32))]\n"
     ]
    }
   ],
   "source": [
    "print(type(news_recommendations[0]))\n",
    "#print(news_recommendations)\n",
    "pred = [user_index, news_recommendations]\n",
    "print(pred)"
   ]
  },
  {
   "cell_type": "code",
   "execution_count": 46,
   "metadata": {},
   "outputs": [
    {
     "name": "stdout",
     "output_type": "stream",
     "text": [
      "[99869 99614 99820 99647 99496]\n"
     ]
    }
   ],
   "source": [
    "print(news_recommendations[0])"
   ]
  },
  {
   "cell_type": "code",
   "execution_count": 47,
   "metadata": {},
   "outputs": [
    {
     "name": "stdout",
     "output_type": "stream",
     "text": [
      "[95033 95893 79482 95932 99463]\n"
     ]
    }
   ],
   "source": [
    "# user_news = (test[(test['userId_idx'] == user_index) & (test['engagement_score_pca'] > 0)]['history_idx']).to_numpy()\n",
    "top_k_user_news = test[(test['userId_idx'] == user_index) & (test['engagement_score_pca'] > 0)].nlargest(5, 'engagement_score_pca')['history_idx'].to_numpy()\n",
    "print(top_k_user_news)"
   ]
  },
  {
   "cell_type": "code",
   "execution_count": 48,
   "metadata": {},
   "outputs": [
    {
     "name": "stdout",
     "output_type": "stream",
     "text": [
      "1.0\n"
     ]
    }
   ],
   "source": [
    "precision = len(news_recommendations[0] & top_k_user_news) / 5\n",
    "print(precision)"
   ]
  },
  {
   "cell_type": "code",
   "execution_count": 50,
   "metadata": {},
   "outputs": [
    {
     "data": {
      "text/plain": [
       "3184"
      ]
     },
     "execution_count": 50,
     "metadata": {},
     "output_type": "execute_result"
    }
   ],
   "source": [
    "users_idx = test['userId_idx'].unique()\n",
    "len(users_idx)"
   ]
  },
  {
   "cell_type": "code",
   "execution_count": 154,
   "metadata": {},
   "outputs": [],
   "source": [
    "def calculate_top_k_precision(model, test_df, top_k, train_matrix):\n",
    "    users_idx = test_df['userId_idx'].unique()\n",
    "    precisions = []\n",
    "    for user in tqdm(users_idx, desc=\"Processing Test\", total=len(users_idx)):\n",
    "        item, score = model.recommend(user, train_matrix[user], N=top_k)\n",
    "        top_k_user_news = test[\n",
    "            (test['userId_idx'] == user) & (test['engagement_score'] > 0)\n",
    "        ].nlargest(top_k, 'engagement_score')['history_idx'].to_numpy()\n",
    "        intersection = len(set(item).intersection(set(top_k_user_news)))\n",
    "        precision = intersection / top_k\n",
    "        precisions.append(precision)\n",
    "    return np.round(np.mean(precision), 4)"
   ]
  },
  {
   "cell_type": "code",
   "execution_count": 155,
   "metadata": {},
   "outputs": [
    {
     "name": "stderr",
     "output_type": "stream",
     "text": [
      "Processing Test: 100%|██████████| 1970/1970 [02:37<00:00, 12.48it/s]"
     ]
    },
    {
     "name": "stdout",
     "output_type": "stream",
     "text": [
      "0.1\n"
     ]
    },
    {
     "name": "stderr",
     "output_type": "stream",
     "text": [
      "\n"
     ]
    }
   ],
   "source": [
    "test_df = test.head(2000)\n",
    "test_df2 = test.copy()\n",
    "score = calculate_top_k_precision(news_model, test_df, 10, train_matrix)\n",
    "print(score)"
   ]
  },
  {
   "cell_type": "code",
   "execution_count": 26,
   "metadata": {},
   "outputs": [
    {
     "name": "stdout",
     "output_type": "stream",
     "text": [
      "news for index 6498567:  1c27cf97-b20c-4e40-b1f1-288b721517b3\n"
     ]
    }
   ],
   "source": [
    "# # Get userId from user index\n",
    "# user_index = 0 \n",
    "# userId = user_index_to_id.get(user_index, None) \n",
    "# print(f\"userId for index {user_index}: {userId}\")  # Output: userId for index 0: 1\n",
    "\n",
    "# Get productId from item index\n",
    "item_index = 6498567\n",
    "productId = item_index_to_id.get(item_index, None) \n",
    "print(f\"news for index {item_index}: {productId}\")  # Output: productId for index 1: B"
   ]
  },
  {
   "cell_type": "markdown",
   "metadata": {},
   "source": [
    "### Recommendation System Tests\n",
    "\n",
    "* Suggestion of workflow: https://chatgpt.com/c/67794a16-1e20-8008-bae7-2751a94583d7\n",
    "\n",
    "* ALS: https://sophwats.github.io/2018-04-05-gentle-als.html"
   ]
  }
 ],
 "metadata": {
  "kernelspec": {
   "display_name": ".venv",
   "language": "python",
   "name": "python3"
  },
  "language_info": {
   "codemirror_mode": {
    "name": "ipython",
    "version": 3
   },
   "file_extension": ".py",
   "mimetype": "text/x-python",
   "name": "python",
   "nbconvert_exporter": "python",
   "pygments_lexer": "ipython3",
   "version": "3.12.3"
  }
 },
 "nbformat": 4,
 "nbformat_minor": 2
}
