{
 "cells": [
  {
   "cell_type": "markdown",
   "metadata": {},
   "source": [
    "#### Lib Imports"
   ]
  },
  {
   "cell_type": "code",
   "execution_count": 14,
   "metadata": {},
   "outputs": [],
   "source": [
    "import pandas as pd\n",
    "import numpy as np\n",
    "from typing import List\n",
    "from datetime import datetime\n",
    "from sklearn.decomposition import PCA\n",
    "from sklearn.pipeline import Pipeline\n",
    "from sklearn.preprocessing import FunctionTransformer\n",
    "from sklearn.preprocessing import StandardScaler"
   ]
  },
  {
   "cell_type": "markdown",
   "metadata": {},
   "source": [
    "#### Data Import"
   ]
  },
  {
   "cell_type": "code",
   "execution_count": 2,
   "metadata": {},
   "outputs": [],
   "source": [
    "treino = pd.read_parquet('local/treino.parquet')"
   ]
  },
  {
   "cell_type": "markdown",
   "metadata": {},
   "source": [
    "#### Pipeline Functions"
   ]
  },
  {
   "cell_type": "code",
   "execution_count": 15,
   "metadata": {},
   "outputs": [],
   "source": [
    "def split_multivalued_df(df: pd.DataFrame, split_columns: list) -> pd.DataFrame:\n",
    "    df[split_columns] = df[split_columns].apply(lambda col: col.str.split(','))\n",
    "    expanded_df = df.explode(split_columns, ignore_index=True)\n",
    "    return expanded_df\n",
    "\n",
    "\n",
    "def drop_columns(df: pd.DataFrame, columns_to_drop: list) -> pd.DataFrame:\n",
    "    dropped_df = df.drop(columns=columns_to_drop, axis=1)\n",
    "    return dropped_df\n",
    "\n",
    "\n",
    "\n",
    "def set_time_base_features(df:pd.DataFrame) -> pd.DataFrame:\n",
    "    decay_rate = 0.0001\n",
    "    df['timestamp'] = pd.to_datetime(df['timestampHistory'], unit='ms')\n",
    "    max_date = df['timestamp'].max()\n",
    "    df['timeOnPageHistory'] = pd.to_numeric(df['timeOnPageHistory'])\n",
    "    df['days_since_click'] = (max_date - df['timestamp']).dt.days\n",
    "    df['day_of_week'] = df['timestamp'].dt.day_name()\n",
    "    df['hour_of_day'] = df['timestamp'].dt.hour\n",
    "    df['time_normalized'] = df['days_since_click'] / df['days_since_click'].max()\n",
    "    df['time_decay_weight'] = np.exp(-decay_rate * df['time_normalized'])\n",
    "    df['time_on_page_minutes'] = df['timeOnPageHistory'] / 60000\n",
    "    return df\n",
    "\n",
    "\n",
    "def calculate_engagement_score(df:pd.DataFrame) -> pd.DataFrame:\n",
    "    df['engagement_score'] = (\n",
    "        df['numberOfClicksHistory'] * 0.4 +\n",
    "        df['scrollPercentageHistory'] * 0.2 +\n",
    "        df['pageVisitsCountHistory'] * 0.2 +\n",
    "        df['time_on_page_minutes'] * 0.1 +\n",
    "        df['time_decay_weight'] * 0.1\n",
    "    )\n",
    "    return df\n",
    "\n",
    "def get_engagement_score_with_PCA(df:pd.DataFrame, interaction_features: list) -> pd.DataFrame:\n",
    "    df['days_since_click'] = (df['days_since_click'] * -1)\n",
    "    df['time_decay_weight'] = (df['time_decay_weight'] * -1)\n",
    "    scaler = StandardScaler()\n",
    "    X = df[interaction_features]\n",
    "    scaled_X = scaler.fit_transform(X)\n",
    "    pca = PCA(n_components=1)\n",
    "    pca_result = pca.fit_transform(scaled_X)\n",
    "    df['engagement_score_pca'] = pca_result\n",
    "    return df\n"
   ]
  },
  {
   "cell_type": "markdown",
   "metadata": {},
   "source": [
    "#### Pipeline"
   ]
  },
  {
   "cell_type": "code",
   "execution_count": 22,
   "metadata": {},
   "outputs": [],
   "source": [
    "## User Pipeline Variables\n",
    "split_columns = [\n",
    "    'history', \n",
    "    'timestampHistory', \n",
    "    'numberOfClicksHistory', \n",
    "    'timeOnPageHistory', \n",
    "    'scrollPercentageHistory', \n",
    "    'pageVisitsCountHistory', \n",
    "    'timestampHistory_new'\n",
    "]\n",
    "\n",
    "columns_to_drop = [\n",
    "    'userType', \n",
    "    'historySize', \n",
    "    'timestampHistory_new', \n",
    "    'timestampHistory', \n",
    "    'timeOnPageHistory', \n",
    "    'numberOfClicksHistory', \n",
    "    'timeOnPageHistory', \n",
    "    'scrollPercentageHistory', \n",
    "    'pageVisitsCountHistory',\n",
    "    'timestamp',\n",
    "    'days_since_click',\n",
    "    'day_of_week',\n",
    "    'hour_of_day',\n",
    "    'time_normalized',\n",
    "    'time_decay_weight',\n",
    "    'time_on_page_minutes'\n",
    "]\n",
    "\n",
    "interaction_features = [\n",
    "    'numberOfClicksHistory', \n",
    "    'timeOnPageHistory', \n",
    "    'scrollPercentageHistory', \n",
    "    'pageVisitsCountHistory', \n",
    "    'time_on_page_minutes', \n",
    "    'time_decay_weight', \n",
    "    'days_since_click'\n",
    "]"
   ]
  },
  {
   "cell_type": "code",
   "execution_count": 23,
   "metadata": {},
   "outputs": [],
   "source": [
    "users_pipeline = Pipeline(\n",
    "    steps=[\n",
    "        ('split_multivalued_df', FunctionTransformer(\n",
    "            split_multivalued_df, \n",
    "            kw_args={'split_columns': split_columns})),\n",
    "        ('create_time_features', FunctionTransformer(set_time_base_features)),\n",
    "        ('set_engagement_score_with_pca', FunctionTransformer(\n",
    "            get_engagement_score_with_PCA, \n",
    "            kw_args={'interaction_features': interaction_features})),\n",
    "        ('drop_columns', FunctionTransformer(drop_columns, kw_args={'columns_to_drop': columns_to_drop}))\n",
    "    ]\n",
    ")"
   ]
  },
  {
   "cell_type": "markdown",
   "metadata": {},
   "source": [
    "#### Pipeline Run"
   ]
  },
  {
   "cell_type": "markdown",
   "metadata": {},
   "source": [
    "##### Test Run"
   ]
  },
  {
   "cell_type": "code",
   "execution_count": 24,
   "metadata": {},
   "outputs": [
    {
     "name": "stderr",
     "output_type": "stream",
     "text": [
      "C:\\Users\\julio\\AppData\\Local\\Temp\\ipykernel_6528\\3254451049.py:2: SettingWithCopyWarning: \n",
      "A value is trying to be set on a copy of a slice from a DataFrame.\n",
      "Try using .loc[row_indexer,col_indexer] = value instead\n",
      "\n",
      "See the caveats in the documentation: https://pandas.pydata.org/pandas-docs/stable/user_guide/indexing.html#returning-a-view-versus-a-copy\n",
      "  df[split_columns] = df[split_columns].apply(lambda col: col.str.split(','))\n",
      "C:\\Users\\julio\\AppData\\Local\\Temp\\ipykernel_6528\\3254451049.py:15: FutureWarning: The behavior of 'to_datetime' with 'unit' when parsing strings is deprecated. In a future version, strings will be parsed as datetime strings, matching the behavior without a 'unit'. To retain the old behavior, explicitly cast ints or floats to numeric type before calling to_datetime.\n",
      "  df['timestamp'] = pd.to_datetime(df['timestampHistory'], unit='ms')\n"
     ]
    },
    {
     "data": {
      "text/html": [
       "<div>\n",
       "<style scoped>\n",
       "    .dataframe tbody tr th:only-of-type {\n",
       "        vertical-align: middle;\n",
       "    }\n",
       "\n",
       "    .dataframe tbody tr th {\n",
       "        vertical-align: top;\n",
       "    }\n",
       "\n",
       "    .dataframe thead th {\n",
       "        text-align: right;\n",
       "    }\n",
       "</style>\n",
       "<table border=\"1\" class=\"dataframe\">\n",
       "  <thead>\n",
       "    <tr style=\"text-align: right;\">\n",
       "      <th></th>\n",
       "      <th>userId</th>\n",
       "      <th>history</th>\n",
       "      <th>engagement_score_pca</th>\n",
       "    </tr>\n",
       "  </thead>\n",
       "  <tbody>\n",
       "    <tr>\n",
       "      <th>0</th>\n",
       "      <td>f98d1132f60d46883ce49583257104d15ce723b3bbda21...</td>\n",
       "      <td>c8aab885-433d-4e46-8066-479f40ba7fb2</td>\n",
       "      <td>0.035902</td>\n",
       "    </tr>\n",
       "    <tr>\n",
       "      <th>1</th>\n",
       "      <td>f98d1132f60d46883ce49583257104d15ce723b3bbda21...</td>\n",
       "      <td>68d2039c-c9aa-456c-ac33-9b2e8677fba7</td>\n",
       "      <td>-1.261832</td>\n",
       "    </tr>\n",
       "    <tr>\n",
       "      <th>2</th>\n",
       "      <td>f98d1132f60d46883ce49583257104d15ce723b3bbda21...</td>\n",
       "      <td>13e423ce-1d69-4c78-bc18-e8c8f7271964</td>\n",
       "      <td>-1.129264</td>\n",
       "    </tr>\n",
       "    <tr>\n",
       "      <th>3</th>\n",
       "      <td>2c1080975e257ed630e26679edbe4d5c850c65f3e09f65...</td>\n",
       "      <td>3325b5a1-979a-4cb3-82b6-63905c9edbe8</td>\n",
       "      <td>-1.557986</td>\n",
       "    </tr>\n",
       "    <tr>\n",
       "      <th>4</th>\n",
       "      <td>2c1080975e257ed630e26679edbe4d5c850c65f3e09f65...</td>\n",
       "      <td>fe856057-f97d-419f-ab1c-97c5c3e0719c</td>\n",
       "      <td>1.295993</td>\n",
       "    </tr>\n",
       "  </tbody>\n",
       "</table>\n",
       "</div>"
      ],
      "text/plain": [
       "                                              userId  \\\n",
       "0  f98d1132f60d46883ce49583257104d15ce723b3bbda21...   \n",
       "1  f98d1132f60d46883ce49583257104d15ce723b3bbda21...   \n",
       "2  f98d1132f60d46883ce49583257104d15ce723b3bbda21...   \n",
       "3  2c1080975e257ed630e26679edbe4d5c850c65f3e09f65...   \n",
       "4  2c1080975e257ed630e26679edbe4d5c850c65f3e09f65...   \n",
       "\n",
       "                                 history  engagement_score_pca  \n",
       "0   c8aab885-433d-4e46-8066-479f40ba7fb2              0.035902  \n",
       "1   68d2039c-c9aa-456c-ac33-9b2e8677fba7             -1.261832  \n",
       "2   13e423ce-1d69-4c78-bc18-e8c8f7271964             -1.129264  \n",
       "3   3325b5a1-979a-4cb3-82b6-63905c9edbe8             -1.557986  \n",
       "4   fe856057-f97d-419f-ab1c-97c5c3e0719c              1.295993  "
      ]
     },
     "execution_count": 24,
     "metadata": {},
     "output_type": "execute_result"
    }
   ],
   "source": [
    "df_test_pipeline = treino.head()\n",
    "users_df = users_pipeline.transform(df_test_pipeline)\n",
    "users_df.head()"
   ]
  },
  {
   "cell_type": "markdown",
   "metadata": {},
   "source": [
    "##### PROD Run"
   ]
  },
  {
   "cell_type": "code",
   "execution_count": 25,
   "metadata": {},
   "outputs": [
    {
     "name": "stderr",
     "output_type": "stream",
     "text": [
      "C:\\Users\\julio\\AppData\\Local\\Temp\\ipykernel_6528\\3254451049.py:15: FutureWarning: The behavior of 'to_datetime' with 'unit' when parsing strings is deprecated. In a future version, strings will be parsed as datetime strings, matching the behavior without a 'unit'. To retain the old behavior, explicitly cast ints or floats to numeric type before calling to_datetime.\n",
      "  df['timestamp'] = pd.to_datetime(df['timestampHistory'], unit='ms')\n"
     ]
    },
    {
     "data": {
      "text/html": [
       "<div>\n",
       "<style scoped>\n",
       "    .dataframe tbody tr th:only-of-type {\n",
       "        vertical-align: middle;\n",
       "    }\n",
       "\n",
       "    .dataframe tbody tr th {\n",
       "        vertical-align: top;\n",
       "    }\n",
       "\n",
       "    .dataframe thead th {\n",
       "        text-align: right;\n",
       "    }\n",
       "</style>\n",
       "<table border=\"1\" class=\"dataframe\">\n",
       "  <thead>\n",
       "    <tr style=\"text-align: right;\">\n",
       "      <th></th>\n",
       "      <th>userId</th>\n",
       "      <th>history</th>\n",
       "      <th>engagement_score_pca</th>\n",
       "    </tr>\n",
       "  </thead>\n",
       "  <tbody>\n",
       "    <tr>\n",
       "      <th>0</th>\n",
       "      <td>f98d1132f60d46883ce49583257104d15ce723b3bbda21...</td>\n",
       "      <td>c8aab885-433d-4e46-8066-479f40ba7fb2</td>\n",
       "      <td>0.417061</td>\n",
       "    </tr>\n",
       "    <tr>\n",
       "      <th>1</th>\n",
       "      <td>f98d1132f60d46883ce49583257104d15ce723b3bbda21...</td>\n",
       "      <td>68d2039c-c9aa-456c-ac33-9b2e8677fba7</td>\n",
       "      <td>-0.344065</td>\n",
       "    </tr>\n",
       "    <tr>\n",
       "      <th>2</th>\n",
       "      <td>f98d1132f60d46883ce49583257104d15ce723b3bbda21...</td>\n",
       "      <td>13e423ce-1d69-4c78-bc18-e8c8f7271964</td>\n",
       "      <td>-0.162837</td>\n",
       "    </tr>\n",
       "    <tr>\n",
       "      <th>3</th>\n",
       "      <td>2c1080975e257ed630e26679edbe4d5c850c65f3e09f65...</td>\n",
       "      <td>3325b5a1-979a-4cb3-82b6-63905c9edbe8</td>\n",
       "      <td>-0.835794</td>\n",
       "    </tr>\n",
       "    <tr>\n",
       "      <th>4</th>\n",
       "      <td>2c1080975e257ed630e26679edbe4d5c850c65f3e09f65...</td>\n",
       "      <td>fe856057-f97d-419f-ab1c-97c5c3e0719c</td>\n",
       "      <td>2.108754</td>\n",
       "    </tr>\n",
       "  </tbody>\n",
       "</table>\n",
       "</div>"
      ],
      "text/plain": [
       "                                              userId  \\\n",
       "0  f98d1132f60d46883ce49583257104d15ce723b3bbda21...   \n",
       "1  f98d1132f60d46883ce49583257104d15ce723b3bbda21...   \n",
       "2  f98d1132f60d46883ce49583257104d15ce723b3bbda21...   \n",
       "3  2c1080975e257ed630e26679edbe4d5c850c65f3e09f65...   \n",
       "4  2c1080975e257ed630e26679edbe4d5c850c65f3e09f65...   \n",
       "\n",
       "                                 history  engagement_score_pca  \n",
       "0   c8aab885-433d-4e46-8066-479f40ba7fb2              0.417061  \n",
       "1   68d2039c-c9aa-456c-ac33-9b2e8677fba7             -0.344065  \n",
       "2   13e423ce-1d69-4c78-bc18-e8c8f7271964             -0.162837  \n",
       "3   3325b5a1-979a-4cb3-82b6-63905c9edbe8             -0.835794  \n",
       "4   fe856057-f97d-419f-ab1c-97c5c3e0719c              2.108754  "
      ]
     },
     "execution_count": 25,
     "metadata": {},
     "output_type": "execute_result"
    }
   ],
   "source": [
    "users_df = users_pipeline.transform(treino)\n",
    "users_df.head()"
   ]
  },
  {
   "cell_type": "markdown",
   "metadata": {},
   "source": []
  }
 ],
 "metadata": {
  "kernelspec": {
   "display_name": ".venv",
   "language": "python",
   "name": "python3"
  },
  "language_info": {
   "codemirror_mode": {
    "name": "ipython",
    "version": 3
   },
   "file_extension": ".py",
   "mimetype": "text/x-python",
   "name": "python",
   "nbconvert_exporter": "python",
   "pygments_lexer": "ipython3",
   "version": "3.12.3"
  }
 },
 "nbformat": 4,
 "nbformat_minor": 2
}
